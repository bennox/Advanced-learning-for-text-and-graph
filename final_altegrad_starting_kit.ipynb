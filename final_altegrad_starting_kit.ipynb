{
 "cells": [
  {
   "cell_type": "markdown",
   "metadata": {
    "colab_type": "text",
    "id": "O8EMj6xX2C0c"
   },
   "source": [
    "# ALTEGRAD Challenge Starting Kit\n",
    "\n",
    "    Authors : Léa BRESSON, Eya KALBOUSSI, Dinh-Phong NGUYEN, Benoît ROBAGLIA\n",
    "\n",
    "### \"Can you predict whether two short texts have the same meaning?\"\n",
    "\n",
    "* The goal of this competition is to predict which of the provided pairs of questions contain two questions with the same meaning.\n",
    "\n",
    "* The ground truth is a set of labels supplied by human experts. This is inherently subjective, as the true meaning of sentences can not be known with certainty. Human labeling is a 'noisy' process, and different people would probably disagree. As a result, ground truth labels on this dataset should be taken as indications but not 100% accurate, and may include incorrect labeling."
   ]
  },
  {
   "cell_type": "code",
   "execution_count": 1,
   "metadata": {
    "colab": {
     "autoexec": {
      "startup": false,
      "wait_interval": 0
     }
    },
    "colab_type": "code",
    "collapsed": true,
    "id": "B4mA9Saz2C0h"
   },
   "outputs": [],
   "source": [
    "import pandas as pd\n",
    "import numpy as np\n",
    "import matplotlib.pyplot as plt\n",
    "%matplotlib inline\n",
    "plt.style.use('seaborn-pastel')"
   ]
  },
  {
   "cell_type": "code",
   "execution_count": 2,
   "metadata": {
    "colab": {
     "autoexec": {
      "startup": false,
      "wait_interval": 0
     },
     "output_extras": [
      {}
     ]
    },
    "colab_type": "code",
    "id": "ZMKy3RAS2C0n",
    "outputId": "19f4bc60-21ae-4cac-9e98-8c9c1e32bfa3"
   },
   "outputs": [
    {
     "data": {
      "text/html": [
       "<div>\n",
       "<style>\n",
       "    .dataframe thead tr:only-child th {\n",
       "        text-align: right;\n",
       "    }\n",
       "\n",
       "    .dataframe thead th {\n",
       "        text-align: left;\n",
       "    }\n",
       "\n",
       "    .dataframe tbody tr th {\n",
       "        vertical-align: top;\n",
       "    }\n",
       "</style>\n",
       "<table border=\"1\" class=\"dataframe\">\n",
       "  <thead>\n",
       "    <tr style=\"text-align: right;\">\n",
       "      <th></th>\n",
       "      <th>row_id</th>\n",
       "      <th>text_a_id</th>\n",
       "      <th>text_b_id</th>\n",
       "      <th>text_a</th>\n",
       "      <th>text_b</th>\n",
       "      <th>same_meaning</th>\n",
       "    </tr>\n",
       "  </thead>\n",
       "  <tbody>\n",
       "    <tr>\n",
       "      <th>0</th>\n",
       "      <td>0</td>\n",
       "      <td>199954</td>\n",
       "      <td>384085</td>\n",
       "      <td>What are the some of the best novels?</td>\n",
       "      <td>What are some of the greatest novels of all ti...</td>\n",
       "      <td>0</td>\n",
       "    </tr>\n",
       "    <tr>\n",
       "      <th>1</th>\n",
       "      <td>1</td>\n",
       "      <td>128681</td>\n",
       "      <td>237407</td>\n",
       "      <td>What are the pictures that made you look twice?</td>\n",
       "      <td>What are some amazing pictures one has to see ...</td>\n",
       "      <td>0</td>\n",
       "    </tr>\n",
       "    <tr>\n",
       "      <th>2</th>\n",
       "      <td>2</td>\n",
       "      <td>170846</td>\n",
       "      <td>240621</td>\n",
       "      <td>Have the ellectoral college members ever voted...</td>\n",
       "      <td>When has the electoral college voted against t...</td>\n",
       "      <td>1</td>\n",
       "    </tr>\n",
       "    <tr>\n",
       "      <th>3</th>\n",
       "      <td>3</td>\n",
       "      <td>55110</td>\n",
       "      <td>177468</td>\n",
       "      <td>Did Ravana really have 10 heads?</td>\n",
       "      <td>Why did Ravana have 10 heads?</td>\n",
       "      <td>1</td>\n",
       "    </tr>\n",
       "    <tr>\n",
       "      <th>4</th>\n",
       "      <td>4</td>\n",
       "      <td>425513</td>\n",
       "      <td>400256</td>\n",
       "      <td>What's a book that you feel helped you to impr...</td>\n",
       "      <td>What books or magazines should I read to impro...</td>\n",
       "      <td>0</td>\n",
       "    </tr>\n",
       "    <tr>\n",
       "      <th>5</th>\n",
       "      <td>5</td>\n",
       "      <td>105990</td>\n",
       "      <td>256943</td>\n",
       "      <td>Is astrology true? Should we believe it or not?</td>\n",
       "      <td>Should you believe in astrology and astrologer...</td>\n",
       "      <td>1</td>\n",
       "    </tr>\n",
       "    <tr>\n",
       "      <th>6</th>\n",
       "      <td>6</td>\n",
       "      <td>366314</td>\n",
       "      <td>224793</td>\n",
       "      <td>What are some of the biggest lies that you eve...</td>\n",
       "      <td>What is the biggest lie ever told by any gover...</td>\n",
       "      <td>0</td>\n",
       "    </tr>\n",
       "    <tr>\n",
       "      <th>7</th>\n",
       "      <td>7</td>\n",
       "      <td>167249</td>\n",
       "      <td>167582</td>\n",
       "      <td>How can I advertise my YouTube Channel to get ...</td>\n",
       "      <td>How can I get more traffic to my YouTube videos?</td>\n",
       "      <td>0</td>\n",
       "    </tr>\n",
       "    <tr>\n",
       "      <th>8</th>\n",
       "      <td>8</td>\n",
       "      <td>344939</td>\n",
       "      <td>281696</td>\n",
       "      <td>Is time travel possible through cosmic strings?</td>\n",
       "      <td>Is time travel already possible on Earth?</td>\n",
       "      <td>1</td>\n",
       "    </tr>\n",
       "    <tr>\n",
       "      <th>9</th>\n",
       "      <td>9</td>\n",
       "      <td>107721</td>\n",
       "      <td>138968</td>\n",
       "      <td>What should I do to earn money online?</td>\n",
       "      <td>How can I earn money on internet?</td>\n",
       "      <td>1</td>\n",
       "    </tr>\n",
       "  </tbody>\n",
       "</table>\n",
       "</div>"
      ],
      "text/plain": [
       "   row_id  text_a_id  text_b_id  \\\n",
       "0       0     199954     384085   \n",
       "1       1     128681     237407   \n",
       "2       2     170846     240621   \n",
       "3       3      55110     177468   \n",
       "4       4     425513     400256   \n",
       "5       5     105990     256943   \n",
       "6       6     366314     224793   \n",
       "7       7     167249     167582   \n",
       "8       8     344939     281696   \n",
       "9       9     107721     138968   \n",
       "\n",
       "                                              text_a  \\\n",
       "0              What are the some of the best novels?   \n",
       "1    What are the pictures that made you look twice?   \n",
       "2  Have the ellectoral college members ever voted...   \n",
       "3                   Did Ravana really have 10 heads?   \n",
       "4  What's a book that you feel helped you to impr...   \n",
       "5    Is astrology true? Should we believe it or not?   \n",
       "6  What are some of the biggest lies that you eve...   \n",
       "7  How can I advertise my YouTube Channel to get ...   \n",
       "8    Is time travel possible through cosmic strings?   \n",
       "9             What should I do to earn money online?   \n",
       "\n",
       "                                              text_b  same_meaning  \n",
       "0  What are some of the greatest novels of all ti...             0  \n",
       "1  What are some amazing pictures one has to see ...             0  \n",
       "2  When has the electoral college voted against t...             1  \n",
       "3                      Why did Ravana have 10 heads?             1  \n",
       "4  What books or magazines should I read to impro...             0  \n",
       "5  Should you believe in astrology and astrologer...             1  \n",
       "6  What is the biggest lie ever told by any gover...             0  \n",
       "7   How can I get more traffic to my YouTube videos?             0  \n",
       "8          Is time travel already possible on Earth?             1  \n",
       "9                  How can I earn money on internet?             1  "
      ]
     },
     "execution_count": 2,
     "metadata": {},
     "output_type": "execute_result"
    }
   ],
   "source": [
    "train_filename = 'train.csv'\n",
    "data = pd.read_csv(train_filename, header=None, names=['row_id', 'text_a_id', 'text_b_id', 'text_a', 'text_b', 'same_meaning'])\n",
    "test_filename = 'test.csv'\n",
    "test = pd.read_csv(test_filename, header=None, names=['row_id', 'text_a_id', 'text_b_id', 'text_a', 'text_b'])\n",
    "data[0:10]"
   ]
  },
  {
   "cell_type": "markdown",
   "metadata": {
    "colab_type": "text",
    "id": "rtWiMwc_2C0t"
   },
   "source": [
    "## Basic stats"
   ]
  },
  {
   "cell_type": "code",
   "execution_count": 3,
   "metadata": {
    "colab": {
     "autoexec": {
      "startup": false,
      "wait_interval": 0
     },
     "output_extras": [
      {}
     ]
    },
    "colab_type": "code",
    "id": "wr_VxEQ72C0w",
    "outputId": "1dd2b672-043b-441a-98d4-658389a59336"
   },
   "outputs": [
    {
     "data": {
      "text/plain": [
       "row_id           int64\n",
       "text_a_id        int64\n",
       "text_b_id        int64\n",
       "text_a          object\n",
       "text_b          object\n",
       "same_meaning     int64\n",
       "dtype: object"
      ]
     },
     "execution_count": 3,
     "metadata": {},
     "output_type": "execute_result"
    }
   ],
   "source": [
    "data.dtypes"
   ]
  },
  {
   "cell_type": "code",
   "execution_count": 4,
   "metadata": {
    "colab": {
     "autoexec": {
      "startup": false,
      "wait_interval": 0
     },
     "output_extras": [
      {}
     ]
    },
    "colab_type": "code",
    "id": "4mZAIBsT2C05",
    "outputId": "e454845d-13fb-4aec-90fb-b8d161902874"
   },
   "outputs": [
    {
     "data": {
      "text/html": [
       "<div>\n",
       "<style>\n",
       "    .dataframe thead tr:only-child th {\n",
       "        text-align: right;\n",
       "    }\n",
       "\n",
       "    .dataframe thead th {\n",
       "        text-align: left;\n",
       "    }\n",
       "\n",
       "    .dataframe tbody tr th {\n",
       "        vertical-align: top;\n",
       "    }\n",
       "</style>\n",
       "<table border=\"1\" class=\"dataframe\">\n",
       "  <thead>\n",
       "    <tr style=\"text-align: right;\">\n",
       "      <th></th>\n",
       "      <th>row_id</th>\n",
       "      <th>text_a_id</th>\n",
       "      <th>text_b_id</th>\n",
       "      <th>same_meaning</th>\n",
       "    </tr>\n",
       "  </thead>\n",
       "  <tbody>\n",
       "    <tr>\n",
       "      <th>count</th>\n",
       "      <td>80100.000000</td>\n",
       "      <td>80100.000000</td>\n",
       "      <td>80100.000000</td>\n",
       "      <td>80100.000000</td>\n",
       "    </tr>\n",
       "    <tr>\n",
       "      <th>mean</th>\n",
       "      <td>40049.500000</td>\n",
       "      <td>228218.494370</td>\n",
       "      <td>227554.505855</td>\n",
       "      <td>0.648427</td>\n",
       "    </tr>\n",
       "    <tr>\n",
       "      <th>std</th>\n",
       "      <td>23123.022618</td>\n",
       "      <td>130598.247917</td>\n",
       "      <td>131066.559216</td>\n",
       "      <td>0.477464</td>\n",
       "    </tr>\n",
       "    <tr>\n",
       "      <th>min</th>\n",
       "      <td>0.000000</td>\n",
       "      <td>16.000000</td>\n",
       "      <td>16.000000</td>\n",
       "      <td>0.000000</td>\n",
       "    </tr>\n",
       "    <tr>\n",
       "      <th>25%</th>\n",
       "      <td>20024.750000</td>\n",
       "      <td>115915.000000</td>\n",
       "      <td>114350.000000</td>\n",
       "      <td>0.000000</td>\n",
       "    </tr>\n",
       "    <tr>\n",
       "      <th>50%</th>\n",
       "      <td>40049.500000</td>\n",
       "      <td>229290.000000</td>\n",
       "      <td>227268.000000</td>\n",
       "      <td>1.000000</td>\n",
       "    </tr>\n",
       "    <tr>\n",
       "      <th>75%</th>\n",
       "      <td>60074.250000</td>\n",
       "      <td>341278.000000</td>\n",
       "      <td>340507.000000</td>\n",
       "      <td>1.000000</td>\n",
       "    </tr>\n",
       "    <tr>\n",
       "      <th>max</th>\n",
       "      <td>80099.000000</td>\n",
       "      <td>452471.000000</td>\n",
       "      <td>452477.000000</td>\n",
       "      <td>1.000000</td>\n",
       "    </tr>\n",
       "  </tbody>\n",
       "</table>\n",
       "</div>"
      ],
      "text/plain": [
       "             row_id      text_a_id      text_b_id  same_meaning\n",
       "count  80100.000000   80100.000000   80100.000000  80100.000000\n",
       "mean   40049.500000  228218.494370  227554.505855      0.648427\n",
       "std    23123.022618  130598.247917  131066.559216      0.477464\n",
       "min        0.000000      16.000000      16.000000      0.000000\n",
       "25%    20024.750000  115915.000000  114350.000000      0.000000\n",
       "50%    40049.500000  229290.000000  227268.000000      1.000000\n",
       "75%    60074.250000  341278.000000  340507.000000      1.000000\n",
       "max    80099.000000  452471.000000  452477.000000      1.000000"
      ]
     },
     "execution_count": 4,
     "metadata": {},
     "output_type": "execute_result"
    }
   ],
   "source": [
    "data.describe()"
   ]
  },
  {
   "cell_type": "code",
   "execution_count": 5,
   "metadata": {
    "colab": {
     "autoexec": {
      "startup": false,
      "wait_interval": 0
     },
     "output_extras": [
      {}
     ]
    },
    "colab_type": "code",
    "id": "VZbfn4L_2C09",
    "outputId": "e052bbad-75f2-4d52-af79-3d2c8538e621"
   },
   "outputs": [
    {
     "data": {
      "text/plain": [
       "row_id          80100\n",
       "text_a_id       80100\n",
       "text_b_id       80100\n",
       "text_a          80100\n",
       "text_b          80100\n",
       "same_meaning    80100\n",
       "dtype: int64"
      ]
     },
     "execution_count": 5,
     "metadata": {},
     "output_type": "execute_result"
    }
   ],
   "source": [
    "data.count()"
   ]
  },
  {
   "cell_type": "code",
   "execution_count": 6,
   "metadata": {
    "colab": {
     "autoexec": {
      "startup": false,
      "wait_interval": 0
     }
    },
    "colab_type": "code",
    "collapsed": true,
    "id": "556xln6S2C1F"
   },
   "outputs": [],
   "source": [
    "def mean_len(x, y):\n",
    "    mean_a = np.mean([len(a.split()) for a in x])\n",
    "    mean_b = np.mean([len(b.split()) for b in y])\n",
    "    mean = pd.Series([mean_a, mean_b])\n",
    "    mean_len = pd.concat([pd.Series([\"A\", \"B\"]), mean], axis=1).rename(columns={0:\"Text\", 1:\"Mean\"})\n",
    "    return mean_len.set_index(\"Text\")"
   ]
  },
  {
   "cell_type": "code",
   "execution_count": 7,
   "metadata": {
    "colab": {
     "autoexec": {
      "startup": false,
      "wait_interval": 0
     },
     "output_extras": [
      {}
     ]
    },
    "colab_type": "code",
    "id": "azZT-3ub2C1M",
    "outputId": "960c55ed-d692-4989-c209-b57c7727d3d6"
   },
   "outputs": [
    {
     "data": {
      "image/png": "[encoded data removed]",
      "text/plain": [
       "<matplotlib.figure.Figure at 0x7f94eb292828>"
      ]
     },
     "metadata": {},
     "output_type": "display_data"
    }
   ],
   "source": [
    "fig, ax = plt.subplots(1, 2)\n",
    "data.same_meaning.value_counts().plot(ax=ax[0], kind='bar', figsize=(16,6), title=\"Label distribution\")\n",
    "mean_len(data.text_a, data.text_b).plot(ax=ax[1], kind='bar', title=\"Mean word number\");"
   ]
  },
  {
   "cell_type": "markdown",
   "metadata": {
    "colab_type": "text",
    "id": "dnEN5g1e2C1T"
   },
   "source": [
    "# Classical models"
   ]
  },
  {
   "cell_type": "code",
   "execution_count": 8,
   "metadata": {
    "colab": {
     "autoexec": {
      "startup": false,
      "wait_interval": 0
     }
    },
    "colab_type": "code",
    "collapsed": true,
    "id": "mHMFY7gt2C1V"
   },
   "outputs": [],
   "source": [
    "from __future__ import print_function\n",
    "import string\n",
    "import unicodedata\n",
    "\n",
    "from nltk.corpus import stopwords\n",
    "from nltk import word_tokenize\n",
    "from nltk.stem import SnowballStemmer\n",
    "from sklearn.utils.validation import check_is_fitted\n",
    "from sklearn.preprocessing import OneHotEncoder, MaxAbsScaler\n",
    "from sklearn.base import BaseEstimator"
   ]
  },
  {
   "cell_type": "markdown",
   "metadata": {
    "colab_type": "text",
    "id": "Fb1XQGrJ2C1b"
   },
   "source": [
    "### Cleaning data (useful for some features)\n",
    "\n",
    "* Removing punctuation, accents and stopwords\n",
    "* Option for stemming if needed\n",
    "* Tokenization"
   ]
  },
  {
   "cell_type": "code",
   "execution_count": 9,
   "metadata": {
    "colab": {
     "autoexec": {
      "startup": false,
      "wait_interval": 0
     }
    },
    "colab_type": "code",
    "collapsed": true,
    "id": "JA5lNuXZ2C1d"
   },
   "outputs": [],
   "source": [
    "def clean_str(sentence, stem=True):\n",
    "    english_stopwords = set(\n",
    "        [stopword for stopword in stopwords.words('english')])\n",
    "    punctuation = set(string.punctuation)\n",
    "    punctuation.update([\"``\", \"`\", \"...\"])\n",
    "    if stem:\n",
    "        stemmer = SnowballStemmer('english')\n",
    "        return list((filter(lambda x: x.lower() not in english_stopwords and\n",
    "                            x.lower() not in punctuation,\n",
    "                            [stemmer.stem(t.lower())\n",
    "                             for t in word_tokenize(sentence)\n",
    "                             if t.isalpha()])))\n",
    "\n",
    "    return list((filter(lambda x: x.lower() not in english_stopwords and\n",
    "                        x.lower() not in punctuation,\n",
    "                        [t.lower() for t in word_tokenize(sentence)\n",
    "                         if t.isalpha()])))\n",
    "\n",
    "\n",
    "\n",
    "def strip_accents_unicode(s):\n",
    "    try:\n",
    "        s = unicode(s, 'utf-8')\n",
    "    except NameError:  # unicode is a default on python 3\n",
    "        pass\n",
    "    s = unicodedata.normalize('NFD', s)\n",
    "    s = s.encode('ascii', 'ignore')\n",
    "    s = s.decode(\"utf-8\")\n",
    "    return str(s)"
   ]
  },
  {
   "cell_type": "code",
   "execution_count": 13,
   "metadata": {
    "colab_type": "text",
    "collapsed": true,
    "id": "pNO8i40j5DAN"
   },
   "outputs": [],
   "source": [
    "Non_cleaned_a = data.text_a\n",
    "Non_cleaned_b = data.text_b\n",
    "index = [i for i in range(len(Non_cleaned_a)) if ((len(Non_cleaned_b[i].split()) != 1) and (len(Non_cleaned_a[i].split()) != 1))]\n",
    "cleaned_a = [Non_cleaned_a[i] for i in index]\n",
    "cleaned_b = [Non_cleaned_b[i] for i in index]"
   ]
  },
  {
   "cell_type": "code",
   "execution_count": 14,
   "metadata": {
    "colab_type": "text",
    "collapsed": true,
    "id": "hy11We9p5DAO"
   },
   "outputs": [],
   "source": [
    "Non_cleaned_a = test.text_a\n",
    "Non_cleaned_b = test.text_b\n",
    "index = [i for i in range(len(Non_cleaned_a)) if ((len(Non_cleaned_b[i].split()) != 1) and (len(Non_cleaned_a[i].split()) != 1))]\n",
    "cleaned_a_test = [Non_cleaned_a[i] for i in index]\n",
    "cleaned_b_test = [Non_cleaned_b[i] for i in index]"
   ]
  },
  {
   "cell_type": "code",
   "execution_count": 15,
   "metadata": {
    "colab": {
     "autoexec": {
      "startup": false,
      "wait_interval": 0
     }
    },
    "colab_type": "code",
    "collapsed": true,
    "id": "-8j_odi82C1s"
   },
   "outputs": [],
   "source": [
    "clean_text_a = [' '.join(clean_str(strip_accents_unicode(x), stem = False)) for x in cleaned_a]\n",
    "clean_text_b = [' '.join(clean_str(strip_accents_unicode(x), stem = False)) for x in cleaned_b]\n",
    "\n",
    "clean_test_a = [' '.join(clean_str(strip_accents_unicode(x), stem = False)) for x in cleaned_a_test]\n",
    "clean_test_b = [' '.join(clean_str(strip_accents_unicode(x), stem = False)) for x in cleaned_b_test]\n",
    "\n",
    "text_a = [''.join(x) for x in data.text_a]\n",
    "text_b = [''.join(x) for x in data.text_b]\n",
    "\n",
    "test_a = [''.join(x) for x in test.text_a]\n",
    "test_b = [''.join(x) for x in test.text_b]\n",
    "\n",
    "clean_texts = clean_text_a + clean_text_b\n",
    "texts = text_a + text_b "
   ]
  },
  {
   "cell_type": "code",
   "execution_count": 16,
   "metadata": {
    "colab": {
     "autoexec": {
      "startup": false,
      "wait_interval": 0
     }
    },
    "colab_type": "code",
    "collapsed": true,
    "id": "x8zHO6SG5DAQ"
   },
   "outputs": [],
   "source": [
    "clean_text_a = [' '.join(clean_str(strip_accents_unicode(x), stem = False)) for x in data.text_a]\n",
    "clean_text_b = [' '.join(clean_str(strip_accents_unicode(x), stem = False)) for x in data.text_b]\n",
    "\n",
    "clean_test_a = [' '.join(clean_str(strip_accents_unicode(x), stem = False)) for x in test.text_a]\n",
    "clean_test_b = [' '.join(clean_str(strip_accents_unicode(x), stem = False)) for x in test.text_b]\n",
    "\n",
    "text_a = [''.join(x) for x in data.text_a]\n",
    "text_b = [''.join(x) for x in data.text_b]\n",
    "\n",
    "test_a = [''.join(x) for x in test.text_a]\n",
    "test_b = [''.join(x) for x in test.text_b]\n",
    "\n",
    "clean_texts = clean_text_a + clean_text_b + clean_test_a + clean_test_a\n",
    "texts = text_a + text_b + test_a + test_b"
   ]
  },
  {
   "cell_type": "code",
   "execution_count": 17,
   "metadata": {
    "colab": {
     "autoexec": {
      "startup": false,
      "wait_interval": 0
     },
     "output_extras": [
      {}
     ]
    },
    "colab_type": "code",
    "id": "9Pkykl2S2C12",
    "outputId": "9c03aa7b-aee2-4c54-dc80-94fe77d784fe"
   },
   "outputs": [
    {
     "name": "stdout",
     "output_type": "stream",
     "text": [
      "\u001b[1mBefore cleaning: \u001b[0mWhat has restored your faith in humanity?\n",
      "\u001b[1mAfter cleaning: \u001b[0mrestored faith humanity\n"
     ]
    }
   ],
   "source": [
    "print(\"\\033[1mBefore cleaning: \\033[0m\" + data.text_a[42])\n",
    "print(\"\\033[1mAfter cleaning: \\033[0m\" + clean_text_a[42])"
   ]
  },
  {
   "cell_type": "markdown",
   "metadata": {
    "colab_type": "text",
    "id": "EBBIGLKB5DAV"
   },
   "source": [
    "## Graphs"
   ]
  },
  {
   "cell_type": "markdown",
   "metadata": {
    "colab_type": "text",
    "id": "_zPsHqpa2C16"
   },
   "source": [
    "### Feature engineering"
   ]
  },
  {
   "cell_type": "markdown",
   "metadata": {},
   "source": [
    "#### Graph-based approach"
   ]
  },
  {
   "cell_type": "code",
   "execution_count": 18,
   "metadata": {
    "collapsed": true
   },
   "outputs": [],
   "source": [
    "import os\n",
    "import time\n",
    "import itertools\n",
    "import math\n",
    "import networkx as nx"
   ]
  },
  {
   "cell_type": "code",
   "execution_count": 19,
   "metadata": {
    "collapsed": true
   },
   "outputs": [],
   "source": [
    "def terms_to_graph(lists_of_terms, window_size, overspanning):\n",
    "    # This function returns a directed, weighted graph from lists of list of terms (the tokens from the pre-processed text)\n",
    "    # e.g., [['quick','brown','fox'], ['develop', 'remot', 'control'], etc]\n",
    "    # Edges are weighted based on term co-occurence within a sliding window of fixed size 'w'\n",
    "\n",
    "    if overspanning:\n",
    "        terms = [item for sublist in lists_of_terms for item in sublist]\n",
    "    else:\n",
    "        idx = 0\n",
    "        terms = lists_of_terms[idx]\n",
    "\n",
    "    from_to = {}\n",
    "\n",
    "    while True:\n",
    "        w = min(window_size, len(terms))\n",
    "        # create initial complete graph (first w terms)\n",
    "        terms_temp = terms[0:w]\n",
    "        indexes = list(itertools.combinations(range(w), r=2))\n",
    "\n",
    "        new_edges = []\n",
    "\n",
    "        for my_tuple in indexes:\n",
    "            new_edges.append(tuple([terms_temp[i] for i in my_tuple]))\n",
    "        for new_edge in new_edges:\n",
    "            if new_edge in from_to:\n",
    "                from_to[new_edge] += 1\n",
    "            else:\n",
    "                from_to[new_edge] = 1\n",
    "\n",
    "        # then iterate over the remaining terms\n",
    "        for i in range(w, len(terms)):\n",
    "            # term to consider\n",
    "            considered_term = terms[i]\n",
    "            # all terms within sliding window\n",
    "            terms_temp = terms[(i - w + 1):(i + 1)]\n",
    "\n",
    "            # edges to try\n",
    "            candidate_edges = []\n",
    "            for p in range(w - 1):\n",
    "                candidate_edges.append((terms_temp[p], considered_term))\n",
    "\n",
    "            for try_edge in candidate_edges:\n",
    "\n",
    "                # if not self-edge\n",
    "                if try_edge[1] != try_edge[0]:\n",
    "\n",
    "                    # if edge has already been seen, update its weight\n",
    "                    if try_edge in from_to:\n",
    "                        from_to[try_edge] += 1\n",
    "\n",
    "                    # if edge has never been seen, create it and assign it a unit weight\n",
    "                    else:\n",
    "                        from_to[try_edge] = 1\n",
    "\n",
    "        if overspanning:\n",
    "            break\n",
    "        else:\n",
    "            idx += 1\n",
    "            if idx == len(lists_of_terms):\n",
    "                break\n",
    "            terms = lists_of_terms[idx]\n",
    "    #create list of tuple \n",
    "    edg = []\n",
    "    for k,v in from_to.items():\n",
    "        lll = list(k)\n",
    "        lll.append(v)\n",
    "        edg.append(tuple(lll) ) \n",
    "    # create empty graph\n",
    "    g = nx.Graph(directed=True)\n",
    "\n",
    "    # add vertices\n",
    "    if overspanning:\n",
    "        g.add_nodes_from(sorted(set(terms)))\n",
    "    else:\n",
    "        g.add_nodes_from(sorted(set([item for sublist in lists_of_terms for item in sublist])) )\n",
    "\n",
    "    # add edges, direction is preserved since the graph is directed\n",
    "    g.add_weighted_edges_from(edg)\n",
    "\n",
    "    #set edge and vertice weights\n",
    "    #for u,v,d in G.edges(data=True):\n",
    "    #    d \n",
    "    #g.es['weight'] = from_to.values()  # based on co-occurence within sliding window\n",
    "    #g.vs['weight'] = g.strength(weights=from_to.values())  # weighted degree\n",
    "    #g.nodes()\n",
    "    return (g)"
   ]
  },
  {
   "cell_type": "code",
   "execution_count": 21,
   "metadata": {
    "collapsed": true
   },
   "outputs": [],
   "source": [
    "text_a_stem = data[\"text_a\"].apply(lambda x: clean_str(strip_accents_unicode(x), stem = True) )\n",
    "text_b_stem = data[\"text_b\"].apply(lambda x: clean_str(strip_accents_unicode(x), stem = True) )\n",
    "test_a_stem = test[\"text_a\"].apply(lambda x: clean_str(strip_accents_unicode(x), stem = True) )\n",
    "test_b_stem = test[\"text_b\"].apply(lambda x: clean_str(strip_accents_unicode(x), stem = True) )"
   ]
  },
  {
   "cell_type": "code",
   "execution_count": 22,
   "metadata": {
    "collapsed": true
   },
   "outputs": [],
   "source": [
    "g = terms_to_graph(list(text_a_stem) + list(text_b_stem), 3, False)\n",
    "g_test = terms_to_graph(list(test_a_stem) + list(test_b_stem), 3, False)"
   ]
  },
  {
   "cell_type": "code",
   "execution_count": 23,
   "metadata": {},
   "outputs": [
    {
     "data": {
      "text/plain": [
       "'Name: \\nType: Graph\\nNumber of nodes: 11215\\nNumber of edges: 146616\\nAverage degree:  26.1464'"
      ]
     },
     "execution_count": 23,
     "metadata": {},
     "output_type": "execute_result"
    }
   ],
   "source": [
    "nx.info(g)"
   ]
  },
  {
   "cell_type": "code",
   "execution_count": 24,
   "metadata": {
    "collapsed": true
   },
   "outputs": [],
   "source": [
    "def intersect(a, b):\n",
    "    return list(set(a) & set(b))\n",
    "\n",
    "def context_similarity_distance(s1, s2, g):\n",
    "    #s1 and s2 are the stemmed tokens\n",
    "    sim = []\n",
    "    for word in set(s2):\n",
    "        for word2 in set(s1):\n",
    "            c1 = list(g.neighbors(word))\n",
    "            c2 = list(g.neighbors(word2))\n",
    "            if len(list(set(c1).union(c2))) != 0:\n",
    "                sim.append(len(intersect(c1,c2)) / len(list(set(c1).union(c2))))\n",
    "            else:\n",
    "                sim.append(0)\n",
    "    if len(sim) == 0:\n",
    "        return 0\n",
    "    else:\n",
    "        return sum(sim)/len(sim)"
   ]
  },
  {
   "cell_type": "code",
   "execution_count": 25,
   "metadata": {
    "collapsed": true
   },
   "outputs": [],
   "source": [
    "csd_train = pd.Series([context_similarity_distance(text_a_stem[i], text_b_stem[i], g) for i in range(len(data))])\n",
    "csd_test = pd.Series([context_similarity_distance(test_a_stem[i], test_b_stem[i], g_test) for i in range(len(test))])"
   ]
  },
  {
   "cell_type": "code",
   "execution_count": 26,
   "metadata": {},
   "outputs": [
    {
     "data": {
      "image/png": "[encoded data removed]",
      "text/plain": [
       "<matplotlib.figure.Figure at 0x7f94d11af390>"
      ]
     },
     "metadata": {},
     "output_type": "display_data"
    }
   ],
   "source": [
    "plt.figure(figsize=(16, 6))\n",
    "csd_train[data[\"same_meaning\"] == 0].hist(bins=30, normed=True, label='Different meaning')\n",
    "csd_train[data[\"same_meaning\"] == 1].hist(bins=30, normed=True, alpha=0.75, label='Same meaning')\n",
    "plt.legend()\n",
    "plt.title('Distribution of context similarity distance according to the label', fontsize=15);"
   ]
  },
  {
   "cell_type": "markdown",
   "metadata": {
    "colab_type": "text",
    "id": "PHn1Lx0k2C17"
   },
   "source": [
    "#### TF(-IDF)\n",
    "\n",
    "* Unigrams and bigrams considered\n",
    "* L1-norm\n",
    "* No IDF\n",
    "* Min frequency considered: 3"
   ]
  },
  {
   "cell_type": "code",
   "execution_count": 27,
   "metadata": {
    "colab": {
     "autoexec": {
      "startup": false,
      "wait_interval": 0
     }
    },
    "colab_type": "code",
    "collapsed": true,
    "id": "V9nGll932C18"
   },
   "outputs": [],
   "source": [
    "from sklearn.feature_extraction.text import TfidfVectorizer\n",
    "\n",
    "vectorizer = TfidfVectorizer(strip_accents=None, lowercase=True,\n",
    "            preprocessor=None, tokenizer=None, analyzer='word',\n",
    "            stop_words=None, token_pattern=r\"(?u)\\b\\w\\w+\\b\",\n",
    "            ngram_range=(1, 2), max_df=1.0, min_df=3,\n",
    "            max_features=None, vocabulary=None, binary=False,\n",
    "            dtype=np.int64, norm='l1', use_idf=False, smooth_idf=True,\n",
    "            sublinear_tf=False)"
   ]
  },
  {
   "cell_type": "code",
   "execution_count": 28,
   "metadata": {
    "colab": {
     "autoexec": {
      "startup": false,
      "wait_interval": 0
     }
    },
    "colab_type": "code",
    "collapsed": true,
    "id": "fslg2-Qa2C2G"
   },
   "outputs": [],
   "source": [
    "vectorizer.fit(texts)\n",
    "tfidf_a = vectorizer.transform(text_a)\n",
    "tfidf_b = vectorizer.transform(text_b)\n",
    "\n",
    "tfidf_a_test = vectorizer.transform(test_a)\n",
    "tfidf_b_test = vectorizer.transform(test_b)"
   ]
  },
  {
   "cell_type": "markdown",
   "metadata": {
    "colab_type": "text",
    "id": "c1ZhkLSP2C2V"
   },
   "source": [
    "#### Cosine similarity\n",
    "\n",
    "* Cosine similarity of the TF matrices for two sentences"
   ]
  },
  {
   "cell_type": "code",
   "execution_count": 29,
   "metadata": {
    "colab": {
     "autoexec": {
      "startup": false,
      "wait_interval": 0
     }
    },
    "colab_type": "code",
    "collapsed": true,
    "id": "3pihRKs12C2W"
   },
   "outputs": [],
   "source": [
    "from sklearn.metrics.pairwise import cosine_similarity\n",
    "\n",
    "cossim_train = [cosine_similarity(tfidf_a[i], tfidf_b[i]) for i in range(len(data))]\n",
    "cossim_train = pd.Series([item for subsublist in cossim_train for sublist in subsublist for item in sublist])\n",
    "\n",
    "cossim_test = [cosine_similarity(tfidf_a_test[i], tfidf_b_test[i]) for i in range(len(test))]\n",
    "cossim_test = pd.Series([item for subsublist in cossim_test for sublist in subsublist for item in sublist])"
   ]
  },
  {
   "cell_type": "code",
   "execution_count": 30,
   "metadata": {
    "colab": {
     "autoexec": {
      "startup": false,
      "wait_interval": 0
     },
     "output_extras": [
      {}
     ]
    },
    "colab_type": "code",
    "id": "24QOyeEl2C2d",
    "outputId": "e46bde3a-46e0-49f3-da3e-0ccd6f129aa7"
   },
   "outputs": [
    {
     "data": {
      "image/png": "[encoded data removed]",
      "text/plain": [
       "<matplotlib.figure.Figure at 0x7f94c6354940>"
      ]
     },
     "metadata": {},
     "output_type": "display_data"
    }
   ],
   "source": [
    "plt.figure(figsize=(16, 6))\n",
    "cossim_train[data[\"same_meaning\"] == 0].hist(bins=30, normed=True, label='Different meaning')\n",
    "cossim_train[data[\"same_meaning\"] == 1].hist(bins=30, normed=True, alpha=0.75, label='Same meaning')\n",
    "plt.legend()\n",
    "plt.title('Label distribution over TF cosine similarity', fontsize=15);"
   ]
  },
  {
   "cell_type": "markdown",
   "metadata": {
    "colab_type": "text",
    "id": "od8H_pW52C2l"
   },
   "source": [
    "#### Levenshtein distance\n",
    "\n",
    "* Computes the similarity ratio over two sentences according to the Levenshtein distance"
   ]
  },
  {
   "cell_type": "code",
   "execution_count": 31,
   "metadata": {
    "colab": {
     "autoexec": {
      "startup": false,
      "wait_interval": 0
     }
    },
    "colab_type": "code",
    "collapsed": true,
    "id": "Je1KJ0f22C2m"
   },
   "outputs": [],
   "source": [
    "from fuzzywuzzy import fuzz\n",
    "# If not installed: pip install fuzzywuzzy[speedup]\n",
    "\n",
    "fuzz_train = pd.Series([fuzz.ratio(data.text_a[i], data.text_b[i]) for i in range(len(data))])\n",
    "fuzz_test = pd.Series([fuzz.ratio(test.text_a[i], test.text_b[i]) for i in range(len(test))])"
   ]
  },
  {
   "cell_type": "code",
   "execution_count": 32,
   "metadata": {
    "colab": {
     "autoexec": {
      "startup": false,
      "wait_interval": 0
     },
     "output_extras": [
      {}
     ]
    },
    "colab_type": "code",
    "id": "zC8MrUDO2C2u",
    "outputId": "f34732fd-086f-4c33-895e-4a3449f3d648"
   },
   "outputs": [
    {
     "data": {
      "image/png": "[encoded data removed]",
      "text/plain": [
       "<matplotlib.figure.Figure at 0x7f94caabd390>"
      ]
     },
     "metadata": {},
     "output_type": "display_data"
    }
   ],
   "source": [
    "plt.figure(figsize=(16, 6))\n",
    "fuzz_train[data[\"same_meaning\"] == 0].hist(bins=20, normed=True, label='Different meaning')\n",
    "fuzz_train[data[\"same_meaning\"] == 1].hist(bins=20, normed=True, alpha=0.75, label='Same meaning')\n",
    "plt.legend()\n",
    "plt.title('Label distribution over Levenshtein distance', fontsize=15);"
   ]
  },
  {
   "cell_type": "markdown",
   "metadata": {
    "colab_type": "text",
    "id": "SH6333KB2C21"
   },
   "source": [
    "#### Word match\n",
    "\n",
    "* Calculates for each text, the number of words it has in common with its counterpart\n",
    "* Returns the ratio of shared words over total number of unique words in both texts"
   ]
  },
  {
   "cell_type": "code",
   "execution_count": 33,
   "metadata": {
    "colab": {
     "autoexec": {
      "startup": false,
      "wait_interval": 0
     }
    },
    "colab_type": "code",
    "collapsed": true,
    "id": "1xesSMWx2C22"
   },
   "outputs": [],
   "source": [
    "from nltk.corpus import stopwords\n",
    "stops = set(stopwords.words(\"english\"))\n",
    "\n",
    "def word_match(row):\n",
    "    a_dict = {}\n",
    "    b_dict = {}\n",
    "    for word in str(row['text_a']).lower().split():\n",
    "        if word not in stops:\n",
    "            a_dict[word] = 1\n",
    "    for word in str(row['text_b']).lower().split():\n",
    "        if word not in stops:\n",
    "            b_dict[word] = 1\n",
    "    if len(a_dict) == 0 or len(b_dict) == 0:\n",
    "        return 0\n",
    "    shared_words_a = [w for w in a_dict.keys() if w in b_dict]\n",
    "    shared_words_b = [w for w in b_dict.keys() if w in a_dict]\n",
    "    match = (len(shared_words_a) + len(shared_words_b))/(len(a_dict) + len(b_dict))\n",
    "    return match"
   ]
  },
  {
   "cell_type": "code",
   "execution_count": 34,
   "metadata": {
    "colab": {
     "autoexec": {
      "startup": false,
      "wait_interval": 0
     }
    },
    "colab_type": "code",
    "collapsed": true,
    "id": "0rGETxpS2C26"
   },
   "outputs": [],
   "source": [
    "word_match_train = data.apply(word_match, axis=1, raw=True)\n",
    "word_match_test = test.apply(word_match, axis=1, raw=True)"
   ]
  },
  {
   "cell_type": "code",
   "execution_count": 35,
   "metadata": {
    "colab": {
     "autoexec": {
      "startup": false,
      "wait_interval": 0
     },
     "output_extras": [
      {}
     ]
    },
    "colab_type": "code",
    "id": "YhvAQ-ER2C3A",
    "outputId": "334334dc-7d1a-4cb3-cbc9-c915999fb242"
   },
   "outputs": [
    {
     "data": {
      "image/png": "[encoded data removed]",
      "text/plain": [
       "<matplotlib.figure.Figure at 0x7f94c51344e0>"
      ]
     },
     "metadata": {},
     "output_type": "display_data"
    }
   ],
   "source": [
    "plt.figure(figsize=(16, 6))\n",
    "word_match_train[data['same_meaning'] == 0].hist(bins=30, normed=True, label='Different meaning')\n",
    "word_match_train[data['same_meaning'] == 1].hist(bins=30, normed=True, alpha=0.75, label='Same meaning')\n",
    "plt.legend()\n",
    "plt.title('Label distribution over word match', fontsize=15);"
   ]
  },
  {
   "cell_type": "markdown",
   "metadata": {
    "colab_type": "text",
    "id": "xX9ux6Ec2C3G"
   },
   "source": [
    "#### Part-Of-Speech (POS) Tagging \n",
    "\n",
    "* Replaces each word by its grammatical category\n",
    "* Computes the similarity ratio over two sentences according to the Levenshtein distance"
   ]
  },
  {
   "cell_type": "code",
   "execution_count": 36,
   "metadata": {
    "colab": {
     "autoexec": {
      "startup": false,
      "wait_interval": 0
     }
    },
    "colab_type": "code",
    "collapsed": true,
    "id": "-iJ8aifM2C3H"
   },
   "outputs": [],
   "source": [
    "from nltk import pos_tag\n",
    "\n",
    "tagged_train_a = [pos_tag(word_tokenize(dd)) for dd in text_a]\n",
    "tagged_train_b = [pos_tag(word_tokenize(dd)) for dd in text_b]\n",
    "tagged_test_a = [pos_tag(word_tokenize(dd)) for dd in test_a]\n",
    "tagged_test_b = [pos_tag(word_tokenize(dd)) for dd in test_b]\n",
    "\n",
    "tag_train_a = np.array([\" \".join([tag for word, tag in sent]) for sent in tagged_train_a])\n",
    "tag_train_b = np.array([\" \".join([tag for word, tag in sent]) for sent in tagged_train_b])\n",
    "tag_test_a = np.array([\" \".join([tag for word, tag in sent]) for sent in tagged_test_a])\n",
    "tag_test_b = np.array([\" \".join([tag for word, tag in sent]) for sent in tagged_test_b])"
   ]
  },
  {
   "cell_type": "code",
   "execution_count": 37,
   "metadata": {
    "colab": {
     "autoexec": {
      "startup": false,
      "wait_interval": 0
     }
    },
    "colab_type": "code",
    "collapsed": true,
    "id": "b2kgyFb72C3N"
   },
   "outputs": [],
   "source": [
    "fuzz_tag_train = pd.Series([fuzz.ratio(tag_train_a[i], tag_train_b[i]) for i in range(len(data))])\n",
    "fuzz_tag_test = pd.Series([fuzz.ratio(tag_test_a[i], tag_test_b[i]) for i in range(len(test))])"
   ]
  },
  {
   "cell_type": "code",
   "execution_count": 38,
   "metadata": {
    "colab": {
     "autoexec": {
      "startup": false,
      "wait_interval": 0
     },
     "output_extras": [
      {}
     ]
    },
    "colab_type": "code",
    "id": "ncAwcb0C2C3R",
    "outputId": "def97b84-198e-4dc4-a89c-08058fa422c3"
   },
   "outputs": [
    {
     "data": {
      "image/png": "[encoded data removed]",
      "text/plain": [
       "<matplotlib.figure.Figure at 0x7f94c5134198>"
      ]
     },
     "metadata": {},
     "output_type": "display_data"
    }
   ],
   "source": [
    "plt.figure(figsize=(16, 6))\n",
    "fuzz_tag_train[data[\"same_meaning\"] == 0].hist(bins=30, normed=True, label='Different meaning')\n",
    "fuzz_tag_train[data[\"same_meaning\"] == 1].hist(bins=30, normed=True, alpha=0.75, label='Same meaning')\n",
    "plt.legend()\n",
    "plt.title('Label distribution over POS Levenshtein distance', fontsize=15);"
   ]
  },
  {
   "cell_type": "markdown",
   "metadata": {
    "colab_type": "text",
    "id": "py606MI62C3a"
   },
   "source": [
    "#### Number of questions associated with a given one in the database\n",
    "\n",
    "* Some questions in text_a have several counterparts in text_b and vice versa\n",
    "* However, there are some questions which appear in both text_a and text_b, with the same counterparts (see example below)\n",
    "* Creates a dictionary with all different questions in total as indices\n",
    "* Counts the number of distinct questions that appear in both text_a and text_b, and that are associated with a given question"
   ]
  },
  {
   "cell_type": "code",
   "execution_count": 39,
   "metadata": {
    "colab": {
     "autoexec": {
      "startup": false,
      "wait_interval": 0
     }
    },
    "colab_type": "code",
    "collapsed": true,
    "id": "q9C-GDMj2C3c"
   },
   "outputs": [],
   "source": [
    "all_texts = pd.concat([data[['text_a', 'text_b']], test[['text_a', 'text_b']]], axis=0).reset_index(drop='index')"
   ]
  },
  {
   "cell_type": "code",
   "execution_count": 40,
   "metadata": {
    "colab": {
     "autoexec": {
      "startup": false,
      "wait_interval": 0
     },
     "output_extras": [
      {}
     ]
    },
    "colab_type": "code",
    "id": "kcPRbthk2C3h",
    "outputId": "041e43fb-8f4a-43c1-e3a0-6578bb9fb1ec"
   },
   "outputs": [
    {
     "data": {
      "text/plain": [
       "8                Is time travel already possible on Earth?\n",
       "7431                     Is backward time travel possible?\n",
       "7670     Is it physically possible to travel back in time?\n",
       "8172     Is it possible to make time machine and do tim...\n",
       "9854              Is time travel possible in next 5 years?\n",
       "11149    Is it possible to travel back or forward in time?\n",
       "13707                     Is time travel to 2010 possible?\n",
       "14634                  Is time travel possible? If yes how\n",
       "15214    Is time travel possible then after how long time?\n",
       "25500    Is time travel possible and if yes can we trav...\n",
       "28212              Will time travel be possible in future?\n",
       "30092                       Could time travel be possible?\n",
       "36488               Will time travel ever become possable?\n",
       "38882    Could time travel be a real thing? Could it be...\n",
       "47566    Will time travel be possible in the next 10 ye...\n",
       "50264               Is time travel theoretically possible?\n",
       "50432                          Time Travel Is It Possible?\n",
       "52927    Is time travel possible after the discovery of...\n",
       "60548    Is time travel still theorized as being possible?\n",
       "67672                         How is time travel possible?\n",
       "68926               Is it possible to time travel to past?\n",
       "71570        Is it possible to travel time with real life?\n",
       "73004                Is time travel possible? If yes? How?\n",
       "77038                    It is possible to travel by time?\n",
       "78481                    Can time travel ever be possible?\n",
       "82800                   Is time traval possible in future?\n",
       "88934      Is it actually possible to travel through time?\n",
       "93289                Is time traveling possible in future?\n",
       "95820                Do you think time travel is possible?\n",
       "99956    What is the possibility of time travel becomin...\n",
       "Name: text_b, dtype: object"
      ]
     },
     "execution_count": 40,
     "metadata": {},
     "output_type": "execute_result"
    }
   ],
   "source": [
    "all_texts.text_b[all_texts.text_a == all_texts.text_a[8]]"
   ]
  },
  {
   "cell_type": "code",
   "execution_count": 41,
   "metadata": {
    "colab": {
     "autoexec": {
      "startup": false,
      "wait_interval": 0
     },
     "output_extras": [
      {}
     ]
    },
    "colab_type": "code",
    "id": "L9Bnm5Pq2C3o",
    "outputId": "8893c897-2e98-4dfc-be1e-4e0fb6314f19"
   },
   "outputs": [
    {
     "data": {
      "text/plain": [
       "8          Is time travel possible through cosmic strings?\n",
       "462      Is it physically possible to travel back in time?\n",
       "2231                 Is time travel possible? If yes? How?\n",
       "2338                Will time travel ever become possable?\n",
       "8974              Is time travel possible in next 5 years?\n",
       "10783                           Can we time travel anyhow?\n",
       "11355                          Time Travel Is It Possible?\n",
       "15382                   Is time traval possible in future?\n",
       "16901                  Is time travel possible? If yes how\n",
       "16957      Is it actually possible to travel through time?\n",
       "19202                     Is time travel to 2010 possible?\n",
       "28348    Is time travel possible then after how long time?\n",
       "29977                Do you think time travel is possible?\n",
       "45636    Can time travel exist somewhere in our univers...\n",
       "48311    Is it possible to travel back or forward in time?\n",
       "53610                    Can time travel ever be possible?\n",
       "58223                         How is time travel possible?\n",
       "64839               Is it possible to time travel to past?\n",
       "74417    Is it possible to make time machine and do tim...\n",
       "76990        Is it possible to travel time with real life?\n",
       "82083                    It is possible to travel by time?\n",
       "83008    Could time travel be a real thing? Could it be...\n",
       "85655    Is time travel possible and if yes can we trav...\n",
       "98002    Is time travel possible after the discovery of...\n",
       "98816                    Is backward time travel possible?\n",
       "99319       Can we expect time travel to become a reality?\n",
       "Name: text_a, dtype: object"
      ]
     },
     "execution_count": 41,
     "metadata": {},
     "output_type": "execute_result"
    }
   ],
   "source": [
    "all_texts.text_a[all_texts.text_b == all_texts.text_b[8]]"
   ]
  },
  {
   "cell_type": "code",
   "execution_count": 42,
   "metadata": {
    "colab": {
     "autoexec": {
      "startup": false,
      "wait_interval": 0
     }
    },
    "colab_type": "code",
    "collapsed": true,
    "id": "oh01300z2C3t"
   },
   "outputs": [],
   "source": [
    "from collections import defaultdict\n",
    "\n",
    "text_dict = defaultdict(set)\n",
    "for i in range(all_texts.shape[0]):\n",
    "        text_dict[all_texts.text_a[i]].add(all_texts.text_b[i])\n",
    "        text_dict[all_texts.text_b[i]].add(all_texts.text_a[i])"
   ]
  },
  {
   "cell_type": "code",
   "execution_count": 43,
   "metadata": {
    "colab": {
     "autoexec": {
      "startup": false,
      "wait_interval": 0
     }
    },
    "colab_type": "code",
    "collapsed": true,
    "id": "9NwYQUdb2C4A"
   },
   "outputs": [],
   "source": [
    "def associated(row):\n",
    "    return(len(set(text_dict[row['text_a']]).intersection(set(text_dict[row['text_b']]))))"
   ]
  },
  {
   "cell_type": "code",
   "execution_count": 44,
   "metadata": {
    "colab": {
     "autoexec": {
      "startup": false,
      "wait_interval": 0
     }
    },
    "colab_type": "code",
    "collapsed": true,
    "id": "ZEu_fdsQ2C4D"
   },
   "outputs": [],
   "source": [
    "assoc_train = data.apply(associated, axis=1, raw=True)\n",
    "assoc_test = test.apply(associated, axis=1, raw=True)"
   ]
  },
  {
   "cell_type": "code",
   "execution_count": 45,
   "metadata": {
    "colab": {
     "autoexec": {
      "startup": false,
      "wait_interval": 0
     },
     "output_extras": [
      {}
     ]
    },
    "colab_type": "code",
    "id": "dSBzfoDb2C4J",
    "outputId": "f09f8435-70fe-4c5f-c3ca-ec97296059af"
   },
   "outputs": [
    {
     "data": {
      "image/png": "[encoded data removed]",
      "text/plain": [
       "<matplotlib.figure.Figure at 0x7f94b19e7d68>"
      ]
     },
     "metadata": {},
     "output_type": "display_data"
    }
   ],
   "source": [
    "plt.figure(figsize=(16, 6))\n",
    "assoc_train[data[\"same_meaning\"] == 0].hist(bins=30, normed=True, label='Different meaning')\n",
    "assoc_train[data[\"same_meaning\"] == 1].hist(bins=30, normed=True, alpha=0.75, label='Same meaning')\n",
    "plt.legend()\n",
    "plt.title('Label distribution over the number of assiociated questions with a given one', fontsize=15);"
   ]
  },
  {
   "cell_type": "markdown",
   "metadata": {
    "colab_type": "text",
    "id": "lm2HK8ff2C4Q"
   },
   "source": [
    "#### Total number of words of added questions"
   ]
  },
  {
   "cell_type": "code",
   "execution_count": 46,
   "metadata": {
    "colab": {
     "autoexec": {
      "startup": false,
      "wait_interval": 0
     }
    },
    "colab_type": "code",
    "collapsed": true,
    "id": "_rSfeio72C4T"
   },
   "outputs": [],
   "source": [
    "# Cleaned questions (stopwords removed, etc.)\n",
    "totalnb_train = pd.Series([len(clean_text_a[i].split()) + len(clean_text_b[i].split()) for i in range(len(clean_text_a))])\n",
    "totalnb_test = pd.Series([len(clean_test_a[i].split()) + len(clean_test_b[i].split()) for i in range(len(clean_test_a))])"
   ]
  },
  {
   "cell_type": "code",
   "execution_count": 47,
   "metadata": {
    "colab": {
     "autoexec": {
      "startup": false,
      "wait_interval": 0
     },
     "output_extras": [
      {}
     ]
    },
    "colab_type": "code",
    "id": "DSI434TD2C4a",
    "outputId": "b4a59f91-7be4-4c77-fb9d-307be508c201"
   },
   "outputs": [
    {
     "data": {
      "image/png": "[encoded data removed]",
      "text/plain": [
       "<matplotlib.figure.Figure at 0x7f94a7e08748>"
      ]
     },
     "metadata": {},
     "output_type": "display_data"
    }
   ],
   "source": [
    "plt.figure(figsize=(16, 6))\n",
    "totalnb_train[data[\"same_meaning\"] == 0].hist(bins=30, normed=True, label='Different meaning')\n",
    "totalnb_train[data[\"same_meaning\"] == 1].hist(bins=30, normed=True, alpha=0.75, label='Same meaning')\n",
    "plt.legend()\n",
    "plt.title('Label distribution over total length', fontsize=15);"
   ]
  },
  {
   "cell_type": "markdown",
   "metadata": {
    "colab_type": "text",
    "id": "OeU_zDx32C4h"
   },
   "source": [
    "#### Difference in number of words"
   ]
  },
  {
   "cell_type": "code",
   "execution_count": 48,
   "metadata": {
    "colab": {
     "autoexec": {
      "startup": false,
      "wait_interval": 0
     }
    },
    "colab_type": "code",
    "collapsed": true,
    "id": "HYtOFw9l2C4i"
   },
   "outputs": [],
   "source": [
    "# Raw questions\n",
    "diffnb_train = pd.Series([abs(len(data.text_a[i].split()) - len(data.text_b[i].split())) for i in range(len(data))])\n",
    "diffnb_test = pd.Series([abs(len(test.text_a[i].split()) - len(test.text_b[i].split())) for i in range(len(test))])"
   ]
  },
  {
   "cell_type": "code",
   "execution_count": 49,
   "metadata": {
    "colab": {
     "autoexec": {
      "startup": false,
      "wait_interval": 0
     },
     "output_extras": [
      {}
     ]
    },
    "colab_type": "code",
    "id": "l5nnHjoi2C4n",
    "outputId": "a706c2ae-eb81-4241-e15d-df57366d5d20"
   },
   "outputs": [
    {
     "data": {
      "image/png": "[encoded data removed]",
      "text/plain": [
       "<matplotlib.figure.Figure at 0x7f94a76b8940>"
      ]
     },
     "metadata": {},
     "output_type": "display_data"
    }
   ],
   "source": [
    "plt.figure(figsize=(16, 6))\n",
    "diffnb_train[data[\"same_meaning\"] == 0].hist(bins=30, normed=True, label='Different meaning')\n",
    "diffnb_train[data[\"same_meaning\"] == 1].hist(bins=30, normed=True, alpha=0.75, label='Same meaning')\n",
    "plt.legend()\n",
    "plt.title('Label distribution over length difference', fontsize=15);"
   ]
  },
  {
   "cell_type": "markdown",
   "metadata": {
    "colab_type": "text",
    "id": "BRzIW8Rc2C4z"
   },
   "source": [
    "#### Sentiment difference\n",
    "\n",
    "* Calculating the compound sentiment analysis (pos, neu, neg) squared difference"
   ]
  },
  {
   "cell_type": "code",
   "execution_count": 50,
   "metadata": {
    "colab": {
     "autoexec": {
      "startup": false,
      "wait_interval": 0
     },
     "output_extras": [
      {}
     ]
    },
    "colab_type": "code",
    "id": "KIKwqM7d2C40",
    "outputId": "b9e4647b-ec65-449a-c358-f515d8486bc7"
   },
   "outputs": [
    {
     "name": "stderr",
     "output_type": "stream",
     "text": [
      "/home/phong/anaconda3/lib/python3.6/site-packages/nltk/twitter/__init__.py:20: UserWarning: The twython library has not been installed. Some functionality from the twitter package will not be available.\n",
      "  warnings.warn(\"The twython library has not been installed. \"\n"
     ]
    }
   ],
   "source": [
    "from nltk.sentiment.vader import SentimentIntensityAnalyzer\n",
    "sid = SentimentIntensityAnalyzer()"
   ]
  },
  {
   "cell_type": "code",
   "execution_count": 51,
   "metadata": {
    "colab": {
     "autoexec": {
      "startup": false,
      "wait_interval": 0
     }
    },
    "colab_type": "code",
    "collapsed": true,
    "id": "DzeQsayg2C42"
   },
   "outputs": [],
   "source": [
    "sent_train = pd.Series([np.abs(sid.polarity_scores(data.text_a[i])['compound'] - sid.polarity_scores(data.text_b[i])['compound'])**2 for i in range(len(data))])\n",
    "sent_test = pd.Series([np.abs(sid.polarity_scores(test.text_a[i])['compound'] - sid.polarity_scores(test.text_b[i])['compound'])**2 for i in range(len(test))])"
   ]
  },
  {
   "cell_type": "code",
   "execution_count": 52,
   "metadata": {
    "colab": {
     "autoexec": {
      "startup": false,
      "wait_interval": 0
     },
     "output_extras": [
      {}
     ]
    },
    "colab_type": "code",
    "id": "bsjqkEJq2C4-",
    "outputId": "480dcfb6-b8a0-41db-8618-6e0df07654c3"
   },
   "outputs": [
    {
     "data": {
      "image/png": "[encoded data removed]",
      "text/plain": [
       "<matplotlib.figure.Figure at 0x7f94a7d1c550>"
      ]
     },
     "metadata": {},
     "output_type": "display_data"
    }
   ],
   "source": [
    "plt.figure(figsize=(16, 6))\n",
    "sent_train[data[\"same_meaning\"] == 0].hist(bins=20, normed=True, label='Different meaning')\n",
    "sent_train[data[\"same_meaning\"] == 1].hist(bins=20, normed=True, alpha=0.75, label='Same meaning')\n",
    "plt.legend()\n",
    "plt.title('Label distribution over positive sentiment difference', fontsize=15);"
   ]
  },
  {
   "cell_type": "markdown",
   "metadata": {
    "colab_type": "text",
    "id": "G3RUUFZl2C5U"
   },
   "source": [
    "#### First word difference\n",
    "\n",
    "* Is the first word different?"
   ]
  },
  {
   "cell_type": "code",
   "execution_count": 53,
   "metadata": {
    "colab": {
     "autoexec": {
      "startup": false,
      "wait_interval": 0
     }
    },
    "colab_type": "code",
    "collapsed": true,
    "id": "0VT0FEu42C5W"
   },
   "outputs": [],
   "source": [
    "text_a_first = [x[0] for x in data.text_a.str.split()]\n",
    "text_b_first = [x[0] for x in data.text_b.str.split()]\n",
    "test_a_first = [x[0] for x in test.text_a.str.split()]\n",
    "test_b_first = [x[0] for x in test.text_b.str.split()]"
   ]
  },
  {
   "cell_type": "code",
   "execution_count": 54,
   "metadata": {
    "colab": {
     "autoexec": {
      "startup": false,
      "wait_interval": 0
     }
    },
    "colab_type": "code",
    "collapsed": true,
    "id": "Rcg14bqq2C5e"
   },
   "outputs": [],
   "source": [
    "first_train = pd.Series([text_a_first[i] == text_b_first[i] for i in range(len(data))])\n",
    "first_test = pd.Series([test_a_first[i] == test_b_first[i] for i in range(len(test))])"
   ]
  },
  {
   "cell_type": "code",
   "execution_count": 55,
   "metadata": {
    "colab": {
     "autoexec": {
      "startup": false,
      "wait_interval": 0
     },
     "output_extras": [
      {}
     ]
    },
    "colab_type": "code",
    "id": "fWijpqRw2C5g",
    "outputId": "9e4c66a0-5bc0-4a92-a1fc-1c0d404c121a"
   },
   "outputs": [
    {
     "data": {
      "image/png": "[encoded data removed]",
      "text/plain": [
       "<matplotlib.figure.Figure at 0x7f94a70ae0f0>"
      ]
     },
     "metadata": {},
     "output_type": "display_data"
    }
   ],
   "source": [
    "plt.figure(figsize=(16, 6))\n",
    "first_train[data[\"same_meaning\"] == 0].hist(bins=20, normed=True, label='Different meaning')\n",
    "first_train[data[\"same_meaning\"] == 1].hist(bins=20, normed=True, alpha=0.75, label='Same meaning')\n",
    "plt.legend()\n",
    "plt.title('Label distribution over first word difference', fontsize=15);"
   ]
  },
  {
   "cell_type": "markdown",
   "metadata": {
    "colab_type": "text",
    "id": "Ysfimc5P5DBp"
   },
   "source": [
    "#### Word/Phrase Kernels\n",
    "* Here we implement a similar feature called the Composition Kernel in Kim et al. (http://www.aclweb.org/anthology/D15-1089)\n",
    "* Briefly, it is a similarity measure in the 300d word embeddings space of Google's word2vec pretrained vectors, which each sentence represented as the sum of its word vectors"
   ]
  },
  {
   "cell_type": "code",
   "execution_count": 108,
   "metadata": {
    "colab": {
     "autoexec": {
      "startup": false,
      "wait_interval": 0
     }
    },
    "colab_type": "code",
    "collapsed": true,
    "id": "_oVCYBGr5DBp"
   },
   "outputs": [],
   "source": [
    "from gensim.models import KeyedVectors\n",
    "import pickle"
   ]
  },
  {
   "cell_type": "code",
   "execution_count": 109,
   "metadata": {
    "colab": {
     "autoexec": {
      "startup": false,
      "wait_interval": 0
     }
    },
    "colab_type": "code",
    "collapsed": true,
    "id": "7p0AYRxJ5DBr"
   },
   "outputs": [],
   "source": [
    "model = KeyedVectors.load_word2vec_format('/home/phong/Documents/Data Camp/fake_news/GoogleNews-vectors-negative300.bin', binary=True)"
   ]
  },
  {
   "cell_type": "code",
   "execution_count": 110,
   "metadata": {
    "colab": {
     "autoexec": {
      "startup": false,
      "wait_interval": 0
     }
    },
    "colab_type": "code",
    "collapsed": true,
    "id": "47rEb9Xl5DBs"
   },
   "outputs": [],
   "source": [
    "vocab = model.vocab\n",
    "embeddings = np.array([model.wv[k] for k in vocab.keys()])"
   ]
  },
  {
   "cell_type": "code",
   "execution_count": 111,
   "metadata": {
    "colab": {
     "autoexec": {
      "startup": false,
      "wait_interval": 0
     }
    },
    "colab_type": "code",
    "collapsed": true,
    "id": "JJ9egujE5DBu"
   },
   "outputs": [],
   "source": [
    "keys = vocab.keys()"
   ]
  },
  {
   "cell_type": "code",
   "execution_count": 60,
   "metadata": {
    "colab": {
     "autoexec": {
      "startup": false,
      "wait_interval": 0
     }
    },
    "colab_type": "code",
    "collapsed": true,
    "id": "VhU8kp665DBv"
   },
   "outputs": [],
   "source": [
    "def phrase_kernel(p1, p2, alpha=1):\n",
    "    p1_words = p1.split()\n",
    "    p2_words = p2.split()\n",
    "    p1_list = []\n",
    "    p2_list = []\n",
    "    for i, word in enumerate(p1_words):\n",
    "        if vocab.get(word) is not None:\n",
    "            p1_list.append(model.wv[word])\n",
    "    for i, word in enumerate(p2_words):\n",
    "        if vocab.get(word) is not None:\n",
    "            p2_list.append(model.wv[word])\n",
    "    p1_emb = sum(p1_list)\n",
    "    p2_emb = sum(p2_list)\n",
    "    wk = (0.5 * (1. + np.dot(p1_emb, p2_emb) / (np.linalg.norm(p1_emb) * np.linalg.norm(p2_emb)))) ** alpha\n",
    "    if np.isnan(wk).any():\n",
    "        wk = 0.5\n",
    "    return wk"
   ]
  },
  {
   "cell_type": "code",
   "execution_count": 61,
   "metadata": {
    "colab": {
     "autoexec": {
      "startup": false,
      "wait_interval": 0
     },
     "output_extras": [
      {}
     ]
    },
    "colab_type": "code",
    "id": "54Qj0BiC5DBw",
    "outputId": "b55c69f4-ab82-431e-c0e0-ddcdb630836c"
   },
   "outputs": [
    {
     "name": "stderr",
     "output_type": "stream",
     "text": [
      "/home/phong/anaconda3/lib/python3.6/site-packages/ipykernel_launcher.py:14: RuntimeWarning: invalid value encountered in true_divide\n",
      "  \n"
     ]
    }
   ],
   "source": [
    "pk_train = pd.Series([phrase_kernel(data.text_a[i], data.text_b[i]) for i in range(len(data))])\n",
    "pk_test = pd.Series([phrase_kernel(test.text_a[i], test.text_b[i]) for i in range(len(test))])"
   ]
  },
  {
   "cell_type": "code",
   "execution_count": 62,
   "metadata": {
    "colab": {
     "autoexec": {
      "startup": false,
      "wait_interval": 0
     },
     "output_extras": [
      {}
     ]
    },
    "colab_type": "code",
    "id": "cqOx699-5DBy",
    "outputId": "567ac1e3-1c23-4034-8b12-e2214b287876"
   },
   "outputs": [
    {
     "data": {
      "image/png": "[encoded data removed]",
      "text/plain": [
       "<matplotlib.figure.Figure at 0x7f93b0293e80>"
      ]
     },
     "metadata": {},
     "output_type": "display_data"
    }
   ],
   "source": [
    "plt.figure(figsize=(16, 6))\n",
    "pk_train[data[\"same_meaning\"] == 0].hist(bins=50, normed=True, label='Different meaning')\n",
    "pk_train[data[\"same_meaning\"] == 1].hist(bins=50, normed=True, alpha=0.75, label='Same meaning')\n",
    "plt.legend()\n",
    "plt.title('Label distribution over phrase kernel', fontsize=15);"
   ]
  },
  {
   "cell_type": "code",
   "execution_count": 126,
   "metadata": {
    "collapsed": true
   },
   "outputs": [],
   "source": [
    "from scipy.spatial.distance import canberra, dice, minkowski, euclidean, braycurtis\n",
    "def phrase_kernel(p1, p2, dist=\"euclidean\"):\n",
    "    p1_words = p1.split()\n",
    "    p2_words = p2.split()\n",
    "    p1_list = []\n",
    "    p2_list = []\n",
    "    for i, word in enumerate(p1_words):\n",
    "        if vocab.get(word) is not None:\n",
    "            p1_list.append(model.wv[word])\n",
    "    for i, word in enumerate(p2_words):\n",
    "        if vocab.get(word) is not None:\n",
    "            p2_list.append(model.wv[word])\n",
    "    p1_emb = sum(p1_list)\n",
    "    p2_emb = sum(p2_list)\n",
    "    if dist == \"euclidean\":\n",
    "        wk = euclidean(p1_emb, p2_emb)\n",
    "    elif dist == \"canberra\":\n",
    "        wk = canberra(p1_emb, p2_emb)\n",
    "    elif dist == \"braycurtis\":\n",
    "        wk = braycurtis(p1_emb, p2_emb)\n",
    "    elif dist == \"minkowski\":\n",
    "        wk = minkowski(p1_emb, p2_emb)\n",
    "    if np.isnan(wk).any():\n",
    "        wk = 0.5\n",
    "    return wk"
   ]
  },
  {
   "cell_type": "code",
   "execution_count": 113,
   "metadata": {
    "collapsed": true
   },
   "outputs": [],
   "source": [
    "can_train = pd.Series([phrase_kernel(data.text_a[i], data.text_b[i], dist=\"canberra\") for i in range(len(data))])\n",
    "can_test = pd.Series([phrase_kernel(test.text_a[i], test.text_b[i], dist=\"canberra\") for i in range(len(test))])"
   ]
  },
  {
   "cell_type": "code",
   "execution_count": 115,
   "metadata": {},
   "outputs": [
    {
     "data": {
      "image/png": "[encoded data removed]",
      "text/plain": [
       "<matplotlib.figure.Figure at 0x7f94a45b2dd8>"
      ]
     },
     "metadata": {},
     "output_type": "display_data"
    }
   ],
   "source": [
    "plt.figure(figsize=(16, 6))\n",
    "can_train[data[\"same_meaning\"] == 0].hist(bins=50, normed=True, label='Different meaning')\n",
    "can_train[data[\"same_meaning\"] == 1].hist(bins=50, normed=True, alpha=0.75, label='Same meaning')\n",
    "plt.legend()\n",
    "plt.title('Label distribution over canberra distance', fontsize=15);"
   ]
  },
  {
   "cell_type": "code",
   "execution_count": 118,
   "metadata": {
    "collapsed": true
   },
   "outputs": [],
   "source": [
    "euc_train = pd.Series([phrase_kernel(data.text_a[i], data.text_b[i], dist=\"euclidean\") for i in range(len(data))])\n",
    "euc_test = pd.Series([phrase_kernel(test.text_a[i], test.text_b[i], dist=\"euclidean\") for i in range(len(test))])"
   ]
  },
  {
   "cell_type": "code",
   "execution_count": 119,
   "metadata": {
    "scrolled": false
   },
   "outputs": [
    {
     "data": {
      "image/png": "[encoded data removed]",
      "text/plain": [
       "<matplotlib.figure.Figure at 0x7f94a45bebe0>"
      ]
     },
     "metadata": {},
     "output_type": "display_data"
    }
   ],
   "source": [
    "plt.figure(figsize=(16, 6))\n",
    "euc_train[data[\"same_meaning\"] == 0].hist(bins=50, normed=True, label='Different meaning')\n",
    "euc_train[data[\"same_meaning\"] == 1].hist(bins=50, normed=True, alpha=0.75, label='Same meaning')\n",
    "plt.legend()\n",
    "plt.title('Label distribution over euclidean distance', fontsize=15);"
   ]
  },
  {
   "cell_type": "markdown",
   "metadata": {
    "colab_type": "text",
    "id": "BvxZBglz2C5n"
   },
   "source": [
    "### Testing features"
   ]
  },
  {
   "cell_type": "code",
   "execution_count": 63,
   "metadata": {
    "colab": {
     "autoexec": {
      "startup": false,
      "wait_interval": 0
     }
    },
    "colab_type": "code",
    "collapsed": true,
    "id": "Sj0MvOru2C5o"
   },
   "outputs": [],
   "source": [
    "from sklearn.metrics import make_scorer, accuracy_score, confusion_matrix, log_loss\n",
    "from sklearn.model_selection import train_test_split\n",
    "from sklearn.ensemble import RandomForestRegressor, AdaBoostRegressor\n",
    "from sklearn.linear_model import LogisticRegression, LinearRegression\n",
    "from sklearn.svm import SVR\n",
    "from sklearn.kernel_ridge import KernelRidge\n",
    "import itertools\n",
    "import xgboost as xgb"
   ]
  },
  {
   "cell_type": "code",
   "execution_count": 144,
   "metadata": {
    "colab": {
     "autoexec": {
      "startup": false,
      "wait_interval": 0
     }
    },
    "colab_type": "code",
    "collapsed": true,
    "id": "qbZVlJO52C5t"
   },
   "outputs": [],
   "source": [
    "X = pd.concat([csd_train, cossim_train, fuzz_train, word_match_train, fuzz_tag_train, assoc_train, diffnb_train, totalnb_train, sent_train, first_train, pk_train, can_train, euc_train], axis=1)\n",
    "X_test = pd.concat([csd_test, cossim_test, fuzz_test, word_match_test, fuzz_tag_test, assoc_test, diffnb_test, totalnb_test, sent_test, first_test, pk_test, can_test, euc_test], axis=1)"
   ]
  },
  {
   "cell_type": "code",
   "execution_count": 145,
   "metadata": {
    "colab": {
     "autoexec": {
      "startup": false,
      "wait_interval": 0
     }
    },
    "colab_type": "code",
    "collapsed": true,
    "id": "vhOaaa9r2C5v"
   },
   "outputs": [],
   "source": [
    "y = data.same_meaning\n",
    "X_train, X_val, y_train, y_val = train_test_split(X, y, test_size=0.20, random_state=42)"
   ]
  },
  {
   "cell_type": "markdown",
   "metadata": {
    "colab_type": "text",
    "id": "VttWUHnn2C5z"
   },
   "source": [
    "#### Batch testing"
   ]
  },
  {
   "cell_type": "code",
   "execution_count": 66,
   "metadata": {
    "colab": {
     "autoexec": {
      "startup": false,
      "wait_interval": 0
     },
     "output_extras": [
      {}
     ]
    },
    "colab_type": "code",
    "id": "ymRDKTzI4Xuk",
    "outputId": "f98ffbca-c183-448b-ac68-069d042e2679"
   },
   "outputs": [
    {
     "name": "stdout",
     "output_type": "stream",
     "text": [
      "\u001b[1mRegressor: AdaBoostClassifier \u001b[0m\n",
      "Train log-loss:   0.343\n",
      "Validation log-loss:   0.342\n",
      "\u001b[1mRegressor: RandomForestClassifier \u001b[0m\n",
      "Train log-loss:   0.049\n",
      "Validation log-loss:   0.191\n",
      "\u001b[1mRegressor: RF with CV \u001b[0m\n",
      "Train log-loss:   0.049\n",
      "Validation log-loss:   0.188\n",
      "\u001b[1mRegressor: kNN with CV \u001b[0m\n",
      "Train log-loss:   0.260\n",
      "Validation log-loss:   0.284\n",
      "\u001b[1mRegressor: MNB with CV \u001b[0m\n",
      "Train log-loss:   0.687\n",
      "Validation log-loss:   0.671\n",
      "\u001b[1mRegressor: Logistic with CV \u001b[0m\n",
      "Train log-loss:   0.250\n",
      "Validation log-loss:   0.245\n"
     ]
    }
   ],
   "source": [
    "from sklearn.ensemble import RandomForestClassifier\n",
    "from sklearn.ensemble import AdaBoostClassifier\n",
    "from sklearn.naive_bayes import MultinomialNB\n",
    "from sklearn.neighbors import KNeighborsClassifier\n",
    "from sklearn.linear_model import LogisticRegression\n",
    "from sklearn.model_selection import GridSearchCV\n",
    "\n",
    "knn_tuned_parameters = [{\"n_neighbors\": [1, 3, 5, 10, 20, 25, 30, 35, 40, 50, 60, 70, 100]}]\n",
    "rf_tuned_parameters = [{\"n_estimators\" : [10, 100, 1000],  \"max_depth\" : [5, 100, 500], \"min_samples_leaf\" : [1, 20, 40]}]\n",
    "MNB_tuned_parameters = [{\"alpha\" : np.linspace(0.01,1,num=20)}]\n",
    "logistic_tuned_parameters = [{\"C\" : np.linspace(0.1,3,num=20)}]\n",
    "\n",
    "regressors = [AdaBoostClassifier(n_estimators=200, learning_rate=0.01, random_state=42),\n",
    "              RandomForestClassifier(n_estimators=500, random_state=42),\n",
    "              GridSearchCV(scoring='neg_log_loss', estimator=RandomForestClassifier(n_jobs=-1), param_grid=rf_tuned_parameters),\n",
    "              GridSearchCV(scoring='neg_log_loss', estimator=KNeighborsClassifier(), param_grid=knn_tuned_parameters),\n",
    "              GridSearchCV(scoring='neg_log_loss', estimator=MultinomialNB(), param_grid=MNB_tuned_parameters),\n",
    "              GridSearchCV(scoring='neg_log_loss', estimator=LogisticRegression(), param_grid=logistic_tuned_parameters)\n",
    "            ]\n",
    "\n",
    "def reg_test(regressor,i, verbose=True):\n",
    "    reg = regressor\n",
    "    reg.fit(X_train, y_train)\n",
    "    pred_train = reg.predict_proba(X_train)\n",
    "    pred_val = reg.predict_proba(X_val)\n",
    "    score1 = log_loss(y_train, pred_train)\n",
    "    score2 = log_loss(y_val, pred_val)\n",
    "    \n",
    "    if verbose:\n",
    "        reg_name = str(regressor).split(\"(\")[0] \n",
    "        if reg_name == \"GridSearchCV\" :\n",
    "            reg_name = name[i]\n",
    "        print(\"\\033[1mRegressor: %s \\033[0m\" % reg_name)\n",
    "        print(\"Train log-loss:   %0.3f\" % score1)\n",
    "        print(\"Validation log-loss:   %0.3f\" % score2)\n",
    "    \n",
    "i=0\n",
    "name = [\"\", \"\", \"RF with CV\", \"kNN with CV\", \"MNB with CV\", \"Logistic with CV\"]\n",
    "for r in regressors:\n",
    "   \n",
    "    reg_test(r,i)  \n",
    "    i = i+1"
   ]
  },
  {
   "cell_type": "markdown",
   "metadata": {
    "colab_type": "text",
    "id": "sRY6sewp2C53"
   },
   "source": [
    "#### XGBoost"
   ]
  },
  {
   "cell_type": "code",
   "execution_count": 146,
   "metadata": {
    "colab": {
     "autoexec": {
      "startup": false,
      "wait_interval": 0
     },
     "output_extras": [
      {}
     ]
    },
    "colab_type": "code",
    "id": "QIsROKuh2C54",
    "outputId": "e2c45fc8-b166-425d-bb05-abc98016b778"
   },
   "outputs": [
    {
     "name": "stdout",
     "output_type": "stream",
     "text": [
      "[0]\ttrain-logloss:0.685769\tvalid-logloss:0.685797\n",
      "Multiple eval metrics have been passed: 'valid-logloss' will be used for early stopping.\n",
      "\n",
      "Will train until valid-logloss hasn't improved in 50 rounds.\n",
      "[200]\ttrain-logloss:0.256774\tvalid-logloss:0.260518\n",
      "[400]\ttrain-logloss:0.198774\tvalid-logloss:0.205113\n",
      "[600]\ttrain-logloss:0.185731\tvalid-logloss:0.193653\n",
      "[800]\ttrain-logloss:0.180582\tvalid-logloss:0.190298\n",
      "[1000]\ttrain-logloss:0.177168\tvalid-logloss:0.188707\n",
      "[1200]\ttrain-logloss:0.174294\tvalid-logloss:0.187853\n",
      "[1400]\ttrain-logloss:0.171507\tvalid-logloss:0.187268\n",
      "[1600]\ttrain-logloss:0.168804\tvalid-logloss:0.186781\n",
      "[1800]\ttrain-logloss:0.166332\tvalid-logloss:0.186464\n",
      "[2000]\ttrain-logloss:0.163999\tvalid-logloss:0.186218\n",
      "[2200]\ttrain-logloss:0.161926\tvalid-logloss:0.186068\n",
      "[2400]\ttrain-logloss:0.159997\tvalid-logloss:0.185886\n",
      "[2600]\ttrain-logloss:0.157994\tvalid-logloss:0.18579\n",
      "[2800]\ttrain-logloss:0.156129\tvalid-logloss:0.185671\n",
      "[3000]\ttrain-logloss:0.154212\tvalid-logloss:0.185543\n",
      "Stopping. Best iteration:\n",
      "[2975]\ttrain-logloss:0.154407\tvalid-logloss:0.18553\n",
      "\n"
     ]
    }
   ],
   "source": [
    "params = {}\n",
    "params['objective'] = 'binary:logistic'\n",
    "params['eval_metric'] = 'logloss'\n",
    "params['colsample_bytree'] = 0.7\n",
    "params['eta'] = 0.01\n",
    "params['max_depth'] = 5\n",
    "\n",
    "d_train = xgb.DMatrix(X_train, label=y_train)\n",
    "d_valid = xgb.DMatrix(X_val, label=y_val)\n",
    "d_test = xgb.DMatrix(X_test)\n",
    "\n",
    "watchlist = [(d_train, 'train'), (d_valid, 'valid')]\n",
    "\n",
    "best_model = xgb.train(params, d_train, 5000, watchlist, early_stopping_rounds=50, verbose_eval=200)"
   ]
  },
  {
   "cell_type": "code",
   "execution_count": 147,
   "metadata": {},
   "outputs": [
    {
     "name": "stdout",
     "output_type": "stream",
     "text": [
      "0)csd, 1)cossim, 2)fuzz, 3)word_match, 4)fuzz_tag, 5)assoc, 6)diffnb, 7)totalnb, 8)sent, 9)first, 10)pk, 11)can, 12)euc\n"
     ]
    },
    {
     "data": {
      "image/png": "[encoded data removed]",
      "text/plain": [
       "<matplotlib.figure.Figure at 0x7f94a478fb38>"
      ]
     },
     "metadata": {},
     "output_type": "display_data"
    }
   ],
   "source": [
    "from xgboost import plot_importance\n",
    "print(\"0)csd, 1)cossim, 2)fuzz, 3)word_match, 4)fuzz_tag, 5)assoc, 6)diffnb, 7)totalnb, 8)sent, 9)first, 10)pk, 11)can, 12)euc\")\n",
    "plot_importance(best_model);"
   ]
  },
  {
   "cell_type": "markdown",
   "metadata": {},
   "source": [
    "From what we see, the graph-based feature was the most important of all. We tried removing the least important feature, but our performance on the validation set lowered, so we kept it."
   ]
  },
  {
   "cell_type": "markdown",
   "metadata": {
    "colab_type": "text",
    "id": "q3h9w8CR2C58"
   },
   "source": [
    "#### Best model: XGBoost"
   ]
  },
  {
   "cell_type": "code",
   "execution_count": 148,
   "metadata": {
    "colab": {
     "autoexec": {
      "startup": false,
      "wait_interval": 0
     },
     "output_extras": [
      {}
     ]
    },
    "colab_type": "code",
    "id": "Kpk2O47M2C59",
    "outputId": "d0587d87-d04b-4878-e57a-d8f196d984c5"
   },
   "outputs": [
    {
     "data": {
      "text/html": [
       "<div>\n",
       "<style>\n",
       "    .dataframe thead tr:only-child th {\n",
       "        text-align: right;\n",
       "    }\n",
       "\n",
       "    .dataframe thead th {\n",
       "        text-align: left;\n",
       "    }\n",
       "\n",
       "    .dataframe tbody tr th {\n",
       "        vertical-align: top;\n",
       "    }\n",
       "</style>\n",
       "<table border=\"1\" class=\"dataframe\">\n",
       "  <thead>\n",
       "    <tr style=\"text-align: right;\">\n",
       "      <th></th>\n",
       "      <th>Id</th>\n",
       "      <th>Score</th>\n",
       "    </tr>\n",
       "  </thead>\n",
       "  <tbody>\n",
       "    <tr>\n",
       "      <th>0</th>\n",
       "      <td>0</td>\n",
       "      <td>0.998819</td>\n",
       "    </tr>\n",
       "    <tr>\n",
       "      <th>1</th>\n",
       "      <td>1</td>\n",
       "      <td>0.999672</td>\n",
       "    </tr>\n",
       "    <tr>\n",
       "      <th>2</th>\n",
       "      <td>2</td>\n",
       "      <td>0.998534</td>\n",
       "    </tr>\n",
       "    <tr>\n",
       "      <th>3</th>\n",
       "      <td>3</td>\n",
       "      <td>0.999528</td>\n",
       "    </tr>\n",
       "    <tr>\n",
       "      <th>4</th>\n",
       "      <td>4</td>\n",
       "      <td>0.999303</td>\n",
       "    </tr>\n",
       "    <tr>\n",
       "      <th>5</th>\n",
       "      <td>5</td>\n",
       "      <td>0.997749</td>\n",
       "    </tr>\n",
       "    <tr>\n",
       "      <th>6</th>\n",
       "      <td>6</td>\n",
       "      <td>0.999057</td>\n",
       "    </tr>\n",
       "    <tr>\n",
       "      <th>7</th>\n",
       "      <td>7</td>\n",
       "      <td>0.992661</td>\n",
       "    </tr>\n",
       "    <tr>\n",
       "      <th>8</th>\n",
       "      <td>8</td>\n",
       "      <td>0.240213</td>\n",
       "    </tr>\n",
       "    <tr>\n",
       "      <th>9</th>\n",
       "      <td>9</td>\n",
       "      <td>0.985565</td>\n",
       "    </tr>\n",
       "  </tbody>\n",
       "</table>\n",
       "</div>"
      ],
      "text/plain": [
       "   Id     Score\n",
       "0   0  0.998819\n",
       "1   1  0.999672\n",
       "2   2  0.998534\n",
       "3   3  0.999528\n",
       "4   4  0.999303\n",
       "5   5  0.997749\n",
       "6   6  0.999057\n",
       "7   7  0.992661\n",
       "8   8  0.240213\n",
       "9   9  0.985565"
      ]
     },
     "execution_count": 148,
     "metadata": {},
     "output_type": "execute_result"
    }
   ],
   "source": [
    "pred_test = best_model.predict(d_test)\n",
    "\n",
    "submission = pd.DataFrame()\n",
    "submission['Id'] = test.row_id\n",
    "submission['Score'] = pred_test\n",
    "submission[0:10]"
   ]
  },
  {
   "cell_type": "code",
   "execution_count": 142,
   "metadata": {
    "colab": {
     "autoexec": {
      "startup": false,
      "wait_interval": 0
     }
    },
    "colab_type": "code",
    "collapsed": true,
    "id": "lEoXn1cH2C6A"
   },
   "outputs": [],
   "source": [
    "submission.to_csv('submissions/test_xgb10.csv', index=False)"
   ]
  },
  {
   "cell_type": "markdown",
   "metadata": {
    "colab_type": "text",
    "id": "tkzBWhv65DCB"
   },
   "source": [
    "**Public score:** 0.18528"
   ]
  },
  {
   "cell_type": "markdown",
   "metadata": {
    "colab_type": "text",
    "id": "dHE3vfnd2C6C"
   },
   "source": [
    "# Simple neural network approach"
   ]
  },
  {
   "cell_type": "code",
   "execution_count": 70,
   "metadata": {
    "colab": {
     "autoexec": {
      "startup": false,
      "wait_interval": 0
     }
    },
    "colab_type": "code",
    "id": "WKw6E1pS2C6D"
   },
   "outputs": [
    {
     "name": "stderr",
     "output_type": "stream",
     "text": [
      "Using TensorFlow backend.\n",
      "/home/phong/anaconda3/lib/python3.6/importlib/_bootstrap.py:219: RuntimeWarning: compiletime version 3.5 of module 'tensorflow.python.framework.fast_tensor_util' does not match runtime version 3.6\n",
      "  return f(*args, **kwds)\n"
     ]
    }
   ],
   "source": [
    "from keras.models import Sequential\n",
    "from keras.layers import Dense\n",
    "from keras.callbacks import ModelCheckpoint, Callback\n",
    "from keras.utils import to_categorical\n",
    "\n",
    "model = Sequential()\n",
    " \n",
    "model.add(Dense(300, activation='relu', input_dim=X.shape[1]))\n",
    "model.add(Dense(300, activation='relu'))\n",
    "model.add(Dense(1, activation='sigmoid'))\n",
    "\n",
    "\n",
    "# Compile model\n",
    "model.compile(loss='binary_crossentropy', optimizer='adam')"
   ]
  },
  {
   "cell_type": "code",
   "execution_count": 71,
   "metadata": {
    "colab": {
     "autoexec": {
      "startup": false,
      "wait_interval": 0
     },
     "output_extras": [
      {},
      {}
     ]
    },
    "colab_type": "code",
    "id": "bpINoFOi2C6G",
    "outputId": "97003e57-94a7-4c13-f60f-12b1d71cc46a"
   },
   "outputs": [
    {
     "name": "stdout",
     "output_type": "stream",
     "text": [
      "Train on 64080 samples, validate on 16020 samples\n",
      "Epoch 1/50\n",
      "64080/64080 [==============================] - 4s 61us/step - loss: 0.3021 - val_loss: 0.2403\n",
      "Epoch 2/50\n",
      "64080/64080 [==============================] - 4s 59us/step - loss: 0.2496 - val_loss: 0.2409\n",
      "Epoch 3/50\n",
      "64080/64080 [==============================] - 4s 58us/step - loss: 0.2369 - val_loss: 0.2257\n",
      "Epoch 4/50\n",
      "64080/64080 [==============================] - 4s 59us/step - loss: 0.2308 - val_loss: 0.2247\n",
      "Epoch 5/50\n",
      "64080/64080 [==============================] - 4s 58us/step - loss: 0.2233 - val_loss: 0.2304\n",
      "Epoch 6/50\n",
      "64080/64080 [==============================] - 4s 58us/step - loss: 0.2185 - val_loss: 0.2208\n",
      "Epoch 7/50\n",
      "64080/64080 [==============================] - 4s 59us/step - loss: 0.2162 - val_loss: 0.2141\n",
      "Epoch 8/50\n",
      "64080/64080 [==============================] - 4s 60us/step - loss: 0.2139 - val_loss: 0.2096\n",
      "Epoch 9/50\n",
      "64080/64080 [==============================] - 4s 59us/step - loss: 0.2112 - val_loss: 0.2089\n",
      "Epoch 10/50\n",
      "64080/64080 [==============================] - 4s 58us/step - loss: 0.2105 - val_loss: 0.2105\n",
      "Epoch 11/50\n",
      "64080/64080 [==============================] - 4s 58us/step - loss: 0.2095 - val_loss: 0.2171\n",
      "Epoch 12/50\n",
      "64080/64080 [==============================] - 4s 58us/step - loss: 0.2091 - val_loss: 0.2086\n",
      "Epoch 13/50\n",
      "64080/64080 [==============================] - 4s 59us/step - loss: 0.2080 - val_loss: 0.2051\n",
      "Epoch 14/50\n",
      "64080/64080 [==============================] - 4s 61us/step - loss: 0.2070 - val_loss: 0.2041\n",
      "Epoch 15/50\n",
      "64080/64080 [==============================] - 4s 59us/step - loss: 0.2060 - val_loss: 0.2080\n",
      "Epoch 16/50\n",
      "64080/64080 [==============================] - 4s 58us/step - loss: 0.2060 - val_loss: 0.2018\n",
      "Epoch 17/50\n",
      "64080/64080 [==============================] - 4s 59us/step - loss: 0.2055 - val_loss: 0.2048\n",
      "Epoch 18/50\n",
      "64080/64080 [==============================] - 4s 59us/step - loss: 0.2048 - val_loss: 0.2079\n",
      "Epoch 19/50\n",
      "64080/64080 [==============================] - 4s 59us/step - loss: 0.2040 - val_loss: 0.2063\n",
      "Epoch 20/50\n",
      "64080/64080 [==============================] - 4s 58us/step - loss: 0.2035 - val_loss: 0.2042\n",
      "Epoch 21/50\n",
      "64080/64080 [==============================] - 4s 58us/step - loss: 0.2043 - val_loss: 0.2113\n",
      "Epoch 22/50\n",
      "64080/64080 [==============================] - 4s 58us/step - loss: 0.2035 - val_loss: 0.2062\n",
      "Epoch 23/50\n",
      "64080/64080 [==============================] - 4s 57us/step - loss: 0.2033 - val_loss: 0.2034\n",
      "Epoch 24/50\n",
      "64080/64080 [==============================] - 4s 58us/step - loss: 0.2038 - val_loss: 0.2004\n",
      "Epoch 25/50\n",
      "64080/64080 [==============================] - 4s 60us/step - loss: 0.2034 - val_loss: 0.2029\n",
      "Epoch 26/50\n",
      "64080/64080 [==============================] - 4s 58us/step - loss: 0.2029 - val_loss: 0.2097\n",
      "Epoch 27/50\n",
      "64080/64080 [==============================] - 4s 58us/step - loss: 0.2026 - val_loss: 0.2066\n",
      "Epoch 28/50\n",
      "64080/64080 [==============================] - 4s 57us/step - loss: 0.2023 - val_loss: 0.2008\n",
      "Epoch 29/50\n",
      "64080/64080 [==============================] - 4s 58us/step - loss: 0.2018 - val_loss: 0.2018\n",
      "Epoch 30/50\n",
      "64080/64080 [==============================] - 4s 59us/step - loss: 0.2017 - val_loss: 0.2019\n",
      "Epoch 31/50\n",
      "64080/64080 [==============================] - 4s 59us/step - loss: 0.2017 - val_loss: 0.2081\n",
      "Epoch 32/50\n",
      "64080/64080 [==============================] - 4s 58us/step - loss: 0.2015 - val_loss: 0.2009\n",
      "Epoch 33/50\n",
      "64080/64080 [==============================] - 4s 58us/step - loss: 0.2011 - val_loss: 0.2027\n",
      "Epoch 34/50\n",
      "64080/64080 [==============================] - 4s 58us/step - loss: 0.2011 - val_loss: 0.2173\n",
      "Epoch 35/50\n",
      "64080/64080 [==============================] - 4s 58us/step - loss: 0.2001 - val_loss: 0.2003\n",
      "Epoch 36/50\n",
      "64080/64080 [==============================] - 4s 59us/step - loss: 0.2007 - val_loss: 0.2009\n",
      "Epoch 37/50\n",
      "64080/64080 [==============================] - 4s 59us/step - loss: 0.2006 - val_loss: 0.2147\n",
      "Epoch 38/50\n",
      "64080/64080 [==============================] - 4s 59us/step - loss: 0.1999 - val_loss: 0.2016\n",
      "Epoch 39/50\n",
      "64080/64080 [==============================] - 4s 58us/step - loss: 0.2005 - val_loss: 0.2090\n",
      "Epoch 40/50\n",
      "64080/64080 [==============================] - 4s 59us/step - loss: 0.1994 - val_loss: 0.2137\n",
      "Epoch 41/50\n",
      "64080/64080 [==============================] - 4s 58us/step - loss: 0.1993 - val_loss: 0.2036\n",
      "Epoch 42/50\n",
      "64080/64080 [==============================] - 4s 58us/step - loss: 0.1992 - val_loss: 0.2013\n",
      "Epoch 43/50\n",
      "64080/64080 [==============================] - 4s 58us/step - loss: 0.1988 - val_loss: 0.1999\n",
      "Epoch 44/50\n",
      "64080/64080 [==============================] - 4s 59us/step - loss: 0.1997 - val_loss: 0.2374\n",
      "Epoch 45/50\n",
      "64080/64080 [==============================] - 4s 59us/step - loss: 0.1987 - val_loss: 0.2037\n",
      "Epoch 46/50\n",
      "64080/64080 [==============================] - 4s 59us/step - loss: 0.1999 - val_loss: 0.2043\n",
      "Epoch 47/50\n",
      "64080/64080 [==============================] - 4s 59us/step - loss: 0.1984 - val_loss: 0.2005\n",
      "Epoch 48/50\n",
      "64080/64080 [==============================] - 4s 58us/step - loss: 0.1982 - val_loss: 0.2010\n",
      "Epoch 49/50\n",
      "64080/64080 [==============================] - 4s 58us/step - loss: 0.1993 - val_loss: 0.2042\n",
      "Epoch 50/50\n",
      "64080/64080 [==============================] - 4s 58us/step - loss: 0.1985 - val_loss: 0.2122\n"
     ]
    },
    {
     "data": {
      "text/plain": [
       "<keras.callbacks.History at 0x7f94a354fe10>"
      ]
     },
     "execution_count": 71,
     "metadata": {},
     "output_type": "execute_result"
    }
   ],
   "source": [
    "# Fit the model\n",
    "callbacks = [ModelCheckpoint('simple_weights2.h5', monitor='val_loss', save_best_only=True)]\n",
    "model.fit(X, y, validation_split=0.20, epochs=50, batch_size=32, callbacks=callbacks)"
   ]
  },
  {
   "cell_type": "markdown",
   "metadata": {
    "colab_type": "text",
    "id": "7LT1FOhy2C6K"
   },
   "source": [
    "#### Making predictions with our best model"
   ]
  },
  {
   "cell_type": "code",
   "execution_count": 72,
   "metadata": {
    "colab": {
     "autoexec": {
      "startup": false,
      "wait_interval": 0
     }
    },
    "colab_type": "code",
    "collapsed": true,
    "id": "MzJrFIwh2C6L"
   },
   "outputs": [],
   "source": [
    "model.load_weights('simple_weights2.h5')\n",
    "y_pred = model.predict(X_test)"
   ]
  },
  {
   "cell_type": "code",
   "execution_count": 73,
   "metadata": {
    "colab": {
     "autoexec": {
      "startup": false,
      "wait_interval": 0
     },
     "output_extras": [
      {}
     ]
    },
    "colab_type": "code",
    "id": "Eha8CmTP2C6P",
    "outputId": "b99e018a-adb0-4826-b36d-2fb1a8aa2519"
   },
   "outputs": [
    {
     "data": {
      "text/html": [
       "<div>\n",
       "<style>\n",
       "    .dataframe thead tr:only-child th {\n",
       "        text-align: right;\n",
       "    }\n",
       "\n",
       "    .dataframe thead th {\n",
       "        text-align: left;\n",
       "    }\n",
       "\n",
       "    .dataframe tbody tr th {\n",
       "        vertical-align: top;\n",
       "    }\n",
       "</style>\n",
       "<table border=\"1\" class=\"dataframe\">\n",
       "  <thead>\n",
       "    <tr style=\"text-align: right;\">\n",
       "      <th></th>\n",
       "      <th>Id</th>\n",
       "      <th>Score</th>\n",
       "    </tr>\n",
       "  </thead>\n",
       "  <tbody>\n",
       "    <tr>\n",
       "      <th>1</th>\n",
       "      <td>1</td>\n",
       "      <td>0.999786</td>\n",
       "    </tr>\n",
       "    <tr>\n",
       "      <th>2</th>\n",
       "      <td>2</td>\n",
       "      <td>0.996634</td>\n",
       "    </tr>\n",
       "    <tr>\n",
       "      <th>3</th>\n",
       "      <td>3</td>\n",
       "      <td>0.999972</td>\n",
       "    </tr>\n",
       "    <tr>\n",
       "      <th>4</th>\n",
       "      <td>4</td>\n",
       "      <td>0.998871</td>\n",
       "    </tr>\n",
       "    <tr>\n",
       "      <th>5</th>\n",
       "      <td>5</td>\n",
       "      <td>0.989336</td>\n",
       "    </tr>\n",
       "    <tr>\n",
       "      <th>6</th>\n",
       "      <td>6</td>\n",
       "      <td>0.996696</td>\n",
       "    </tr>\n",
       "    <tr>\n",
       "      <th>7</th>\n",
       "      <td>7</td>\n",
       "      <td>0.983601</td>\n",
       "    </tr>\n",
       "    <tr>\n",
       "      <th>8</th>\n",
       "      <td>8</td>\n",
       "      <td>0.372068</td>\n",
       "    </tr>\n",
       "    <tr>\n",
       "      <th>9</th>\n",
       "      <td>9</td>\n",
       "      <td>0.982043</td>\n",
       "    </tr>\n",
       "  </tbody>\n",
       "</table>\n",
       "</div>"
      ],
      "text/plain": [
       "   Id     Score\n",
       "1   1  0.999786\n",
       "2   2  0.996634\n",
       "3   3  0.999972\n",
       "4   4  0.998871\n",
       "5   5  0.989336\n",
       "6   6  0.996696\n",
       "7   7  0.983601\n",
       "8   8  0.372068\n",
       "9   9  0.982043"
      ]
     },
     "execution_count": 73,
     "metadata": {},
     "output_type": "execute_result"
    }
   ],
   "source": [
    "submission = pd.concat([test.row_id.rename('Id'), pd.DataFrame(y_pred)[0].rename('Score')], axis=1)\n",
    "submission[1:10]"
   ]
  },
  {
   "cell_type": "code",
   "execution_count": 74,
   "metadata": {
    "colab": {
     "autoexec": {
      "startup": false,
      "wait_interval": 0
     }
    },
    "colab_type": "code",
    "collapsed": true,
    "id": "CRq_Zvhk2C6W"
   },
   "outputs": [],
   "source": [
    "submission.to_csv('submissions/test_nn.csv', index=False)"
   ]
  },
  {
   "cell_type": "markdown",
   "metadata": {
    "colab_type": "text",
    "id": "r0UDbjqv5DCK"
   },
   "source": [
    "**Public score:** 0.19751"
   ]
  },
  {
   "cell_type": "markdown",
   "metadata": {
    "colab_type": "text",
    "id": "iFbPXy3b2C6Z"
   },
   "source": [
    "# Deep learning with word embeddings"
   ]
  },
  {
   "cell_type": "code",
   "execution_count": 75,
   "metadata": {
    "colab": {
     "autoexec": {
      "startup": false,
      "wait_interval": 0
     }
    },
    "colab_type": "code",
    "collapsed": true,
    "id": "dbZaXqiE2C6Z"
   },
   "outputs": [],
   "source": [
    "import gensim\n",
    "\n",
    "import os\n",
    "import sys\n",
    "import numpy as np\n",
    "from keras.preprocessing.text import Tokenizer\n",
    "from keras.preprocessing.sequence import pad_sequences\n",
    "from keras.utils import to_categorical\n",
    "from keras.layers import Dense, Input, GlobalMaxPooling1D, Flatten, LSTM, Dropout, Activation, Reshape, BatchNormalization, Lambda\n",
    "from keras.layers import Conv1D, MaxPooling1D, Embedding, Convolution2D, MaxPooling2D, merge, Bidirectional, concatenate, TimeDistributed\n",
    "from keras.callbacks import ModelCheckpoint, Callback\n",
    "from keras.models import Model, Sequential\n",
    "from keras import backend as K\n",
    "from keras.optimizers import Adam\n",
    "from keras.layers.merge import Concatenate"
   ]
  },
  {
   "cell_type": "code",
   "execution_count": 76,
   "metadata": {
    "colab": {
     "autoexec": {
      "startup": false,
      "wait_interval": 0
     }
    },
    "colab_type": "code",
    "collapsed": true,
    "id": "FpnMjdtT2C6d"
   },
   "outputs": [],
   "source": [
    "BASE_DIR = ''\n",
    "GLOVE_DIR = os.path.join(BASE_DIR, 'glove.6B')\n",
    "TEXT_DATA_DIR = BASE_DIR\n",
    "MAX_SEQUENCE_LENGTH = 500\n",
    "MAX_NB_WORDS = 200000\n",
    "EMBEDDING_DIM = 300\n",
    "VALIDATION_SPLIT = 0.2"
   ]
  },
  {
   "cell_type": "markdown",
   "metadata": {
    "colab_type": "text",
    "id": "Jb1iT7aJ2C6g"
   },
   "source": [
    "#### Preprocessing our text with pre-trained word embeddings"
   ]
  },
  {
   "cell_type": "code",
   "execution_count": 77,
   "metadata": {
    "colab": {
     "autoexec": {
      "startup": false,
      "wait_interval": 0
     }
    },
    "colab_type": "code",
    "collapsed": true,
    "id": "COtWVMEE2C6h"
   },
   "outputs": [],
   "source": [
    "tokenizer = Tokenizer(num_words=MAX_NB_WORDS)\n",
    "tokenizer.fit_on_texts(texts)\n",
    "sequences_a = tokenizer.texts_to_sequences(text_a)\n",
    "sequences_b = tokenizer.texts_to_sequences(text_b)\n",
    "\n",
    "word_index = tokenizer.word_index\n",
    "\n",
    "data_a = pad_sequences(sequences_a, maxlen=MAX_SEQUENCE_LENGTH)\n",
    "data_b = pad_sequences(sequences_b, maxlen=MAX_SEQUENCE_LENGTH)\n",
    "\n",
    "embeddings_index = {}\n",
    "f = open(os.path.join(GLOVE_DIR, 'glove.6B.300d.txt'))\n",
    "for line in f:\n",
    "    values = line.split()\n",
    "    word = values[0]\n",
    "    coefs = np.asarray(values[1:], dtype='float32')\n",
    "    embeddings_index[word] = coefs\n",
    "f.close()\n",
    "\n",
    "num_words = min(MAX_NB_WORDS, len(word_index))\n",
    "embedding_matrix = np.zeros((num_words+1, EMBEDDING_DIM))\n",
    "for word, i in word_index.items():\n",
    "    if i >= MAX_NB_WORDS:\n",
    "        continue\n",
    "    embedding_vector = embeddings_index.get(word)\n",
    "    if embedding_vector is not None:\n",
    "        # words not found in embedding index will be all-zeros.\n",
    "        embedding_matrix[i] = embedding_vector"
   ]
  },
  {
   "cell_type": "code",
   "execution_count": 78,
   "metadata": {
    "colab": {
     "autoexec": {
      "startup": false,
      "wait_interval": 0
     }
    },
    "colab_type": "code",
    "collapsed": true,
    "id": "ql0k9blY2C6k"
   },
   "outputs": [],
   "source": [
    "embedding_layer_a = Embedding(num_words+1,\n",
    "                    EMBEDDING_DIM,\n",
    "                    weights=[embedding_matrix],\n",
    "                    input_length=MAX_SEQUENCE_LENGTH,\n",
    "                    trainable=False)\n",
    "\n",
    "embedding_layer_b = Embedding(num_words+1,\n",
    "                    EMBEDDING_DIM,\n",
    "                    weights=[embedding_matrix],\n",
    "                    input_length=MAX_SEQUENCE_LENGTH,\n",
    "                    trainable=False)"
   ]
  },
  {
   "cell_type": "code",
   "execution_count": 79,
   "metadata": {
    "colab": {
     "autoexec": {
      "startup": false,
      "wait_interval": 0
     }
    },
    "colab_type": "code",
    "collapsed": true,
    "id": "ulyvMk6l2C6o"
   },
   "outputs": [],
   "source": [
    "sequence_input_a = Input(shape=(MAX_SEQUENCE_LENGTH,), dtype='int32')\n",
    "sequence_input_b = Input(shape=(MAX_SEQUENCE_LENGTH,), dtype='int32')\n",
    "\n",
    "embedded_sequences_a = embedding_layer_a(sequence_input_a)\n",
    "embedded_sequences_b = embedding_layer_b(sequence_input_b)\n",
    "\n",
    "embedded_sequences = concatenate([embedded_sequences_a, embedded_sequences_b])"
   ]
  },
  {
   "cell_type": "markdown",
   "metadata": {
    "colab_type": "text",
    "id": "84ySOU3o2C6p"
   },
   "source": [
    "#### Defining our layers"
   ]
  },
  {
   "cell_type": "code",
   "execution_count": 80,
   "metadata": {
    "colab": {
     "autoexec": {
      "startup": false,
      "wait_interval": 0
     }
    },
    "colab_type": "code",
    "collapsed": true,
    "id": "Fvhu3g-I2C6q"
   },
   "outputs": [],
   "source": [
    "features = Input(shape=(X.shape[1],))\n",
    "\n",
    "x = Conv1D(128, 5, activation='relu')(embedded_sequences)\n",
    "y = Dense(200, activation=\"relu\")(features)\n",
    "x = MaxPooling1D(5)(x)\n",
    "x = Conv1D(128, 5, activation='relu')(x)\n",
    "x = MaxPooling1D(5)(x)\n",
    "x = Conv1D(128, 5, activation='relu')(x)\n",
    "x = MaxPooling1D(10)(x)\n",
    "x = Flatten()(x)\n",
    "xy = concatenate([x,y])\n",
    "x = Dense(128, activation='relu')(xy)\n",
    "preds = Dense(1, activation='sigmoid')(x)\n",
    "\n",
    "\n",
    "model = Model(inputs=[sequence_input_a, sequence_input_b, features], outputs=preds)\n",
    "model.compile(loss='binary_crossentropy', optimizer='adam')"
   ]
  },
  {
   "cell_type": "markdown",
   "metadata": {
    "colab_type": "text",
    "id": "dnRz5h3G2C6w"
   },
   "source": [
    "#### Training our model and saving the best weights"
   ]
  },
  {
   "cell_type": "code",
   "execution_count": 81,
   "metadata": {
    "colab": {
     "autoexec": {
      "startup": false,
      "wait_interval": 0
     },
     "output_extras": [
      {},
      {}
     ]
    },
    "colab_type": "code",
    "id": "6B0l6QYN2C6w",
    "outputId": "64274268-f89a-46b7-c447-9105276916d8"
   },
   "outputs": [
    {
     "name": "stdout",
     "output_type": "stream",
     "text": [
      "Train on 68085 samples, validate on 12015 samples\n",
      "Epoch 1/5\n",
      "68085/68085 [==============================] - 735s 11ms/step - loss: 0.3140 - val_loss: 0.2976\n",
      "Epoch 2/5\n",
      "68085/68085 [==============================] - 737s 11ms/step - loss: 0.2507 - val_loss: 0.2550\n",
      "Epoch 3/5\n",
      "68085/68085 [==============================] - 736s 11ms/step - loss: 0.2497 - val_loss: 0.2413\n",
      "Epoch 4/5\n",
      "68085/68085 [==============================] - 736s 11ms/step - loss: 0.2409 - val_loss: 0.2647\n",
      "Epoch 5/5\n",
      "68085/68085 [==============================] - 736s 11ms/step - loss: 0.2353 - val_loss: 0.2337\n"
     ]
    },
    {
     "data": {
      "text/plain": [
       "<keras.callbacks.History at 0x7f9494fecc88>"
      ]
     },
     "execution_count": 81,
     "metadata": {},
     "output_type": "execute_result"
    }
   ],
   "source": [
    "callbacks = [ModelCheckpoint('weights_all.h5', monitor='val_loss', save_best_only=True)]\n",
    "model.fit([data_a, data_b, X], data.same_meaning, validation_split=0.15, epochs=5, batch_size=128, callbacks=callbacks)"
   ]
  },
  {
   "cell_type": "markdown",
   "metadata": {
    "colab_type": "text",
    "id": "LhE6eUy22C60"
   },
   "source": [
    "#### Making predictions with our best model"
   ]
  },
  {
   "cell_type": "code",
   "execution_count": 82,
   "metadata": {
    "colab": {
     "autoexec": {
      "startup": false,
      "wait_interval": 0
     }
    },
    "colab_type": "code",
    "collapsed": true,
    "id": "cM2JCxkc2C60"
   },
   "outputs": [],
   "source": [
    "seq_test_a = tokenizer.texts_to_sequences(test_a)\n",
    "seq_test_b = tokenizer.texts_to_sequences(test_b)\n",
    "\n",
    "data_test_a = pad_sequences(seq_test_a, maxlen=MAX_SEQUENCE_LENGTH)\n",
    "data_test_b = pad_sequences(seq_test_b, maxlen=MAX_SEQUENCE_LENGTH)"
   ]
  },
  {
   "cell_type": "code",
   "execution_count": 83,
   "metadata": {
    "colab": {
     "autoexec": {
      "startup": false,
      "wait_interval": 0
     }
    },
    "colab_type": "code",
    "collapsed": true,
    "id": "DyJxaXXz2C69"
   },
   "outputs": [],
   "source": [
    "model.load_weights('weights_all.h5')\n",
    "y_pred = model.predict([data_test_a, data_test_b, X_test])"
   ]
  },
  {
   "cell_type": "code",
   "execution_count": 84,
   "metadata": {
    "colab": {
     "autoexec": {
      "startup": false,
      "wait_interval": 0
     },
     "output_extras": [
      {}
     ]
    },
    "colab_type": "code",
    "id": "b_nVGDhX2C7I",
    "outputId": "da781ccc-ddb5-42d9-f361-89429977e5dc"
   },
   "outputs": [
    {
     "data": {
      "text/html": [
       "<div>\n",
       "<style>\n",
       "    .dataframe thead tr:only-child th {\n",
       "        text-align: right;\n",
       "    }\n",
       "\n",
       "    .dataframe thead th {\n",
       "        text-align: left;\n",
       "    }\n",
       "\n",
       "    .dataframe tbody tr th {\n",
       "        vertical-align: top;\n",
       "    }\n",
       "</style>\n",
       "<table border=\"1\" class=\"dataframe\">\n",
       "  <thead>\n",
       "    <tr style=\"text-align: right;\">\n",
       "      <th></th>\n",
       "      <th>Id</th>\n",
       "      <th>Score</th>\n",
       "    </tr>\n",
       "  </thead>\n",
       "  <tbody>\n",
       "    <tr>\n",
       "      <th>1</th>\n",
       "      <td>1</td>\n",
       "      <td>0.999999</td>\n",
       "    </tr>\n",
       "    <tr>\n",
       "      <th>2</th>\n",
       "      <td>2</td>\n",
       "      <td>0.999999</td>\n",
       "    </tr>\n",
       "    <tr>\n",
       "      <th>3</th>\n",
       "      <td>3</td>\n",
       "      <td>0.999619</td>\n",
       "    </tr>\n",
       "    <tr>\n",
       "      <th>4</th>\n",
       "      <td>4</td>\n",
       "      <td>0.999832</td>\n",
       "    </tr>\n",
       "    <tr>\n",
       "      <th>5</th>\n",
       "      <td>5</td>\n",
       "      <td>0.997428</td>\n",
       "    </tr>\n",
       "    <tr>\n",
       "      <th>6</th>\n",
       "      <td>6</td>\n",
       "      <td>0.998877</td>\n",
       "    </tr>\n",
       "    <tr>\n",
       "      <th>7</th>\n",
       "      <td>7</td>\n",
       "      <td>0.989653</td>\n",
       "    </tr>\n",
       "    <tr>\n",
       "      <th>8</th>\n",
       "      <td>8</td>\n",
       "      <td>0.102371</td>\n",
       "    </tr>\n",
       "    <tr>\n",
       "      <th>9</th>\n",
       "      <td>9</td>\n",
       "      <td>0.974060</td>\n",
       "    </tr>\n",
       "  </tbody>\n",
       "</table>\n",
       "</div>"
      ],
      "text/plain": [
       "   Id     Score\n",
       "1   1  0.999999\n",
       "2   2  0.999999\n",
       "3   3  0.999619\n",
       "4   4  0.999832\n",
       "5   5  0.997428\n",
       "6   6  0.998877\n",
       "7   7  0.989653\n",
       "8   8  0.102371\n",
       "9   9  0.974060"
      ]
     },
     "execution_count": 84,
     "metadata": {},
     "output_type": "execute_result"
    }
   ],
   "source": [
    "submission = pd.concat([test.row_id.rename('Id'), pd.DataFrame(y_pred)[0].rename('Score')], axis=1)\n",
    "submission[1:10]"
   ]
  },
  {
   "cell_type": "code",
   "execution_count": 85,
   "metadata": {
    "colab": {
     "autoexec": {
      "startup": false,
      "wait_interval": 0
     }
    },
    "colab_type": "code",
    "collapsed": true,
    "id": "4nMbjDBW2C7L"
   },
   "outputs": [],
   "source": [
    "submission.to_csv('submissions/test_embeddings_bag6.csv', index=False)"
   ]
  },
  {
   "cell_type": "markdown",
   "metadata": {
    "colab_type": "text",
    "id": "PS2OHbbR5DCY"
   },
   "source": [
    "**Public score:** 0.18894"
   ]
  }
 ],
 "metadata": {
  "colab": {
   "default_view": {},
   "name": "Copy_of_altegrad_starting_kit.ipynb",
   "provenance": [
    {
     "file_id": "1224dLOPu9OyRzjbbCe9E0MczyYOjju1s",
     "timestamp": 1516662478573
    }
   ],
   "version": "0.3.2",
   "views": {}
  },
  "kernelspec": {
   "display_name": "Python 3",
   "language": "python",
   "name": "python3"
  },
  "language_info": {
   "codemirror_mode": {
    "name": "ipython",
    "version": 3
   },
   "file_extension": ".py",
   "mimetype": "text/x-python",
   "name": "python",
   "nbconvert_exporter": "python",
   "pygments_lexer": "ipython3",
   "version": "3.6.3"
  }
 },
 "nbformat": 4,
 "nbformat_minor": 1
}
